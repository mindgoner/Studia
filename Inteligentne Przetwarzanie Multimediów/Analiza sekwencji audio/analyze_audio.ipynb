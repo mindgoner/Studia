{
 "cells": [
  {
   "cell_type": "code",
   "execution_count": 2,
   "id": "dab9f42e",
   "metadata": {},
   "outputs": [
    {
     "name": "stdout",
     "output_type": "stream",
     "text": [
      "Processing clean...\n",
      "Processing noise...\n",
      "Processing sine...\n",
      "    file                                      transcription  mfcc_mean  \\\n",
      "0  clean   The stale smell of old beer lingers. It takes... -11.280766   \n",
      "1  noise   The stale smell of old beer lingers. It takes...  -7.492465   \n",
      "2   sine   The stale smell of old beer lingers. It takes... -10.140648   \n",
      "\n",
      "   spectral_centroid       zcr  polarity  subjectivity  \n",
      "0        3243.359570  0.068710  0.023810      0.578571  \n",
      "1        8960.240049  0.303777  0.023810      0.578571  \n",
      "2         842.228110  0.020277 -0.054167      0.631250  \n"
     ]
    }
   ],
   "source": [
    "import numpy as np\n",
    "np.complex = complex\n",
    "\n",
    "import librosa\n",
    "import soundfile as sf\n",
    "import pandas as pd\n",
    "from textblob import TextBlob\n",
    "import whisper\n",
    "import torch\n",
    "from time import sleep\n",
    "\n",
    "files = {\n",
    "    \"clean\": \"harvard.wav\",\n",
    "    \"noise\": \"harvard-noise.wav\",\n",
    "    \"sine\": \"harvard-sine.wav\"\n",
    "}\n",
    "\n",
    "model = whisper.load_model(\"base\")\n",
    "results = []\n",
    "\n",
    "for label, path in files.items():\n",
    "    y, sr = librosa.load(path, sr=None)\n",
    "    mfcc = librosa.feature.mfcc(y=y, sr=sr).mean(axis=1)\n",
    "    centroid = librosa.feature.spectral_centroid(y=y, sr=sr).mean()\n",
    "    zcr = librosa.feature.zero_crossing_rate(y).mean()\n",
    "    chroma = librosa.feature.chroma_stft(y=y, sr=sr).mean()\n",
    "    mel = librosa.feature.melspectrogram(y=y, sr=sr).mean()\n",
    "    temp_path = f\"./temp_{label}.wav\"\n",
    "    sf.write(temp_path, y, sr)\n",
    "    print(f\"Processing {label}...\")\n",
    "    transcription = model.transcribe(temp_path)[\"text\"]\n",
    "    sentiment = TextBlob(transcription).sentiment\n",
    "\n",
    "    results.append({\n",
    "        \"file\": label,\n",
    "        \"transcription\": transcription,\n",
    "        \"mfcc_mean\": mfcc.mean(),\n",
    "        \"spectral_centroid\": centroid,\n",
    "        \"zcr\": zcr,\n",
    "        \"chroma\": chroma,\n",
    "        \"mel\": mel,\n",
    "        \"polarity\": sentiment.polarity,\n",
    "        \"subjectivity\": sentiment.subjectivity\n",
    "    })\n",
    "\n",
    "df = pd.DataFrame(results)\n",
    "print(df[[\"file\", \"transcription\", \"mfcc_mean\", \"spectral_centroid\", \"zcr\", \"polarity\", \"subjectivity\"]])\n"
   ]
  }
 ],
 "metadata": {
  "kernelspec": {
   "display_name": "Python 3",
   "language": "python",
   "name": "python3"
  },
  "language_info": {
   "codemirror_mode": {
    "name": "ipython",
    "version": 3
   },
   "file_extension": ".py",
   "mimetype": "text/x-python",
   "name": "python",
   "nbconvert_exporter": "python",
   "pygments_lexer": "ipython3",
   "version": "3.11.9"
  }
 },
 "nbformat": 4,
 "nbformat_minor": 5
}
