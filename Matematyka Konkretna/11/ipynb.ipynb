{
 "cells": [
  {
   "cell_type": "code",
   "execution_count": null,
   "metadata": {},
   "outputs": [
    {
     "name": "stdout",
     "output_type": "stream",
     "text": [
      "Wartości własne (λ):\n",
      "[1.+0.j 1.+0.j 1.-0.j]\n",
      "\n",
      "Amplitudy początkowe (b):\n",
      "[-3.73278720e+24-5.36870912e+08j  1.42048989e+24-2.09388303e+24j\n",
      "  1.42048989e+24+2.09388303e+24j]\n"
     ]
    },
    {
     "name": "stderr",
     "output_type": "stream",
     "text": [
      "C:\\Users\\dawid\\AppData\\Local\\Temp\\ipykernel_13080\\466860023.py:7: FutureWarning: DataFrame.applymap has been deprecated. Use DataFrame.map instead.\n",
      "  X_full      = pd.read_csv('War1_X.csv',      sep=';', header=None).applymap(to_float)\n",
      "C:\\Users\\dawid\\AppData\\Local\\Temp\\ipykernel_13080\\466860023.py:8: FutureWarning: DataFrame.applymap has been deprecated. Use DataFrame.map instead.\n",
      "  Xprime_full = pd.read_csv('War1_Xprime.csv', sep=';', header=None).applymap(to_float)\n"
     ]
    },
    {
     "data": {
      "image/png": "[encoded data removed]",
      "text/plain": [
       "<Figure size 400x400 with 1 Axes>"
      ]
     },
     "metadata": {},
     "output_type": "display_data"
    },
    {
     "name": "stdout",
     "output_type": "stream",
     "text": [
      "      0     1     2     3     4     5     6     7     8     9   ...    13  \\\n",
      "0   0.50  0.16  0.13 -0.12 -0.08  0.06  0.37 -0.03  0.02  0.09  ...  0.05   \n",
      "1   0.16  0.51  0.05 -0.01  0.10 -0.05  0.09  0.11  0.01 -0.15  ... -0.24   \n",
      "2   0.13  0.05  0.43  0.03  0.14  0.02 -0.05  0.10  0.09  0.13  ... -0.00   \n",
      "3  -0.12 -0.01  0.03  0.17  0.04 -0.06 -0.04  0.07  0.07  0.04  ... -0.01   \n",
      "4  -0.08  0.10  0.14  0.04  0.28  0.04 -0.12  0.10  0.10  0.04  ...  0.02   \n",
      "5   0.06 -0.05  0.02 -0.06  0.04  0.36  0.10  0.02  0.11 -0.02  ...  0.04   \n",
      "6   0.37  0.09 -0.05 -0.04 -0.12  0.10  0.41 -0.01  0.08  0.07  ...  0.06   \n",
      "7  -0.03  0.11  0.10  0.07  0.10  0.02 -0.01  0.41  0.15  0.12  ... -0.05   \n",
      "8   0.02  0.01  0.09  0.07  0.10  0.11  0.08  0.15  0.39 -0.08  ... -0.03   \n",
      "9   0.09 -0.15  0.13  0.04  0.04 -0.02  0.07  0.12 -0.08  0.39  ...  0.21   \n",
      "10  0.06 -0.03 -0.04  0.13 -0.17 -0.19  0.09 -0.11 -0.08 -0.04  ...  0.09   \n",
      "11 -0.06 -0.14  0.13  0.11  0.00  0.18  0.00 -0.13  0.20 -0.14  ...  0.01   \n",
      "12  0.00 -0.03  0.08 -0.02 -0.00  0.13 -0.03  0.10  0.02 -0.03  ...  0.06   \n",
      "13  0.05 -0.24 -0.00 -0.01  0.02  0.04  0.06 -0.05 -0.03  0.21  ...  0.29   \n",
      "14 -0.03  0.10 -0.14  0.09  0.13 -0.07  0.07 -0.07 -0.01  0.05  ...  0.07   \n",
      "15  0.03  0.14  0.21  0.08  0.03  0.03 -0.02 -0.07 -0.15  0.05  ... -0.09   \n",
      "16 -0.11  0.05 -0.09  0.19  0.04  0.06  0.09  0.01  0.03  0.07  ... -0.03   \n",
      "17 -0.05  0.11 -0.24 -0.00 -0.02  0.19  0.08  0.15  0.02 -0.13  ...  0.00   \n",
      "18 -0.01  0.17  0.09 -0.00  0.14 -0.12 -0.14  0.01 -0.08 -0.08  ...  0.03   \n",
      "19  0.04 -0.07 -0.01 -0.04  0.11  0.06  0.02 -0.05 -0.01  0.08  ...  0.20   \n",
      "20  0.03  0.02  0.02  0.00  0.21  0.01  0.01 -0.11  0.14 -0.04  ...  0.11   \n",
      "21 -0.04 -0.05  0.05  0.16 -0.01 -0.15  0.02  0.28  0.13  0.16  ...  0.05   \n",
      "22 -0.05 -0.03  0.02 -0.02  0.05  0.15 -0.05  0.04 -0.22  0.17  ...  0.10   \n",
      "\n",
      "      14    15    16    17    18    19    20    21    22  \n",
      "0  -0.03  0.03 -0.11 -0.05 -0.01  0.04  0.03 -0.04 -0.05  \n",
      "1   0.10  0.14  0.05  0.11  0.17 -0.07  0.02 -0.05 -0.03  \n",
      "2  -0.14  0.21 -0.09 -0.24  0.09 -0.01  0.02  0.05  0.02  \n",
      "3   0.09  0.08  0.19 -0.00 -0.00 -0.04  0.00  0.16 -0.02  \n",
      "4   0.13  0.03  0.04 -0.02  0.14  0.11  0.21 -0.01  0.05  \n",
      "5  -0.07  0.03  0.06  0.19 -0.12  0.06  0.01 -0.15  0.15  \n",
      "6   0.07 -0.02  0.09  0.08 -0.14  0.02  0.01  0.02 -0.05  \n",
      "7  -0.07 -0.07  0.01  0.15  0.01 -0.05 -0.11  0.28  0.04  \n",
      "8  -0.01 -0.15  0.03  0.02 -0.08 -0.01  0.14  0.13 -0.22  \n",
      "9   0.05  0.05  0.07 -0.13 -0.08  0.08 -0.04  0.16  0.17  \n",
      "10  0.03  0.08  0.02  0.07  0.19  0.02 -0.03  0.17 -0.07  \n",
      "11 -0.08  0.15  0.10 -0.01 -0.04 -0.01  0.07 -0.05 -0.06  \n",
      "12 -0.16  0.00 -0.13  0.20  0.14  0.06 -0.06  0.04  0.11  \n",
      "13  0.07 -0.09 -0.03  0.00  0.03  0.20  0.11  0.05  0.10  \n",
      "14  0.35 -0.00  0.24  0.03  0.03  0.11  0.21 -0.01  0.00  \n",
      "15 -0.00  0.44  0.19 -0.10  0.04 -0.08 -0.10 -0.10  0.18  \n",
      "16  0.24  0.19  0.45  0.07 -0.17 -0.05 -0.01  0.05  0.09  \n",
      "17  0.03 -0.10  0.07  0.51  0.09  0.07 -0.06  0.02  0.15  \n",
      "18  0.03  0.04 -0.17  0.09  0.41  0.13  0.13 -0.00  0.05  \n",
      "19  0.11 -0.08 -0.05  0.07  0.13  0.22  0.19 -0.05  0.09  \n",
      "20  0.21 -0.10 -0.01 -0.06  0.13  0.19  0.36 -0.08 -0.11  \n",
      "21 -0.01 -0.10  0.05  0.02 -0.00 -0.05 -0.08  0.39 -0.08  \n",
      "22  0.00  0.18  0.09  0.15  0.05  0.09 -0.11 -0.08  0.37  \n",
      "\n",
      "[23 rows x 23 columns]\n"
     ]
    }
   ],
   "source": [
    "\n",
    "import numpy as np\n",
    "import pandas as pd\n",
    "import matplotlib.pyplot as plt\n",
    "\n",
    "def to_float(x):\n",
    "    return float(str(x).replace(',', '.'))\n",
    "X_full      = pd.read_csv('War1_X.csv',      sep=';', header=None).applymap(to_float)\n",
    "Xprime_full = pd.read_csv('War1_Xprime.csv', sep=';', header=None).applymap(to_float)\n",
    "\n",
    "X      = X_full.iloc[:, 1:].to_numpy()\n",
    "Xprime = Xprime_full.iloc[:, :-1].to_numpy()\n",
    "\n",
    "def dmd_ss(X, Xprime, r):\n",
    "    \"\"\"\n",
    "    Dynamic Mode Decomposition – Snapshot Sequence (truncation rank = r)\n",
    "    X      : n × m-1   (snapshots 1 … m-1)\n",
    "    Xprime : n × m-1   (snapshots 2 … m)\n",
    "    returns Φ (n×r), Λ (r diag), b (r×1)\n",
    "    \"\"\"\n",
    "    U, s, Vt = np.linalg.svd(X, full_matrices=False)   # SVD\n",
    "    Ur   = U[:, :r]\n",
    "    Sr   = np.diag(s[:r])\n",
    "    Vtr  = Vt[:r, :]\n",
    "\n",
    "    A_tilde = Ur.T @ Xprime @ Vtr.T @ np.linalg.inv(Sr)\n",
    "    eigvals, W = np.linalg.eig(A_tilde)\n",
    "    Lambda = np.diag(eigvals)\n",
    "    Phi = Xprime @ Vtr.T @ np.linalg.inv(Sr) @ W       # tryby DMD\n",
    "\n",
    "    # amplitudy początkowe (dla 1-go snapshotu)\n",
    "    alpha1 = Sr @ Vtr[:, 0]\n",
    "    b = np.linalg.solve(W @ Lambda, alpha1)\n",
    "\n",
    "    return Phi, Lambda, b\n",
    "\n",
    "r = 5\n",
    "Phi, Lambda, b = dmd_ss(X, Xprime, r)\n",
    "\n",
    "print(\"Wartości własne (λ):\")\n",
    "print(np.round(np.diag(Lambda), 6))\n",
    "\n",
    "print(\"\\nAmplitudy początkowe (b):\")\n",
    "print(np.round(b, 6))\n",
    "\n",
    "plt.figure(figsize=(4,4))\n",
    "plt.scatter(np.real(np.diag(Lambda)), np.imag(np.diag(Lambda)))\n",
    "plt.xlabel('Re(λ)'); plt.ylabel('Im(λ)')\n",
    "plt.title('Widmo DMD'); plt.grid(True); plt.axis('equal')\n",
    "plt.show()\n",
    "\n",
    "A = Xprime @ np.linalg.pinv(X)\n",
    "A_df = pd.DataFrame(A).round(2)  \n",
    "print(A_df)\n"
   ]
  },
  {
   "cell_type": "code",
   "execution_count": null,
   "metadata": {},
   "outputs": [],
   "source": []
  }
 ],
 "metadata": {
  "kernelspec": {
   "display_name": "Python 3 (ipykernel)",
   "language": "python",
   "name": "python3"
  },
  "language_info": {
   "codemirror_mode": {
    "name": "ipython",
    "version": 3
   },
   "file_extension": ".py",
   "mimetype": "text/x-python",
   "name": "python",
   "nbconvert_exporter": "python",
   "pygments_lexer": "ipython3",
   "version": "3.12.4"
  }
 },
 "nbformat": 4,
 "nbformat_minor": 4
}
