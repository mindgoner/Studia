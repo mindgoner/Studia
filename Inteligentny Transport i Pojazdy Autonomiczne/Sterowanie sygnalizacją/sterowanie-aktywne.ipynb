{
 "cells": [
  {
   "cell_type": "code",
   "execution_count": null,
   "id": "b7ca81c9",
   "metadata": {},
   "outputs": [],
   "source": [
    "import random\n",
    "import time\n",
    "\n",
    "def detect_vehicle():\n",
    "    return random.random() < 0.7\n",
    "\n",
    "def traffic_signal_controller():\n",
    "    while True:\n",
    "        green_time = 30\n",
    "        red_time = 30\n",
    "        print(f\"Zielone światło - {green_time} sekund\")\n",
    "        time.sleep(green_time)\n",
    "\n",
    "        while detect_vehicle():\n",
    "            if green_time < 90:\n",
    "                green_time += 10\n",
    "                print(\"Pojazd wykryty! Przedłużenie zielonego światła o kolejne 10 sekund...\")\n",
    "            time.sleep(10)  # Przedłużenie w krótkich krokach\n",
    "\n",
    "        green_time = 30  # Resetowanie zielonego światła do 30 sekund\n",
    "        print(f\"Czerwone światło - {red_time} sekund\")\n",
    "        time.sleep(red_time)\n",
    "\n",
    "traffic_signal_controller()\n"
   ]
  }
 ],
 "metadata": {
  "kernelspec": {
   "display_name": "Python 3",
   "language": "python",
   "name": "python3"
  },
  "language_info": {
   "codemirror_mode": {
    "name": "ipython",
    "version": 3
   },
   "file_extension": ".py",
   "mimetype": "text/x-python",
   "name": "python",
   "nbconvert_exporter": "python",
   "pygments_lexer": "ipython3",
   "version": "3.11.9"
  }
 },
 "nbformat": 4,
 "nbformat_minor": 5
}
