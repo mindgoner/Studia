{
 "cells": [
  {
   "cell_type": "code",
   "execution_count": 14,
   "metadata": {},
   "outputs": [],
   "source": [
    "import pandas as pd\n",
    "import numpy as np\n",
    "from sklearn.model_selection import train_test_split\n",
    "from sklearn.linear_model import LinearRegression\n",
    "from sklearn.svm import SVC\n",
    "from sklearn.metrics import mean_squared_error, r2_score, accuracy_score, classification_report\n",
    "\n",
    "# 1. Wczytanie danych, wstępne przetworzenie i kategoryzacja danych\n",
    "data = pd.read_csv(\"smokers.csv\")\n",
    "data = data.dropna()\n",
    "data['Smoking Status'] = data['Smoking Status'].map({'current': 1, 'former': 0, 'never': 0})\n",
    "data['Gender'] = data['Gender'].map({'f': 0, 'm': 1})"
   ]
  },
  {
   "cell_type": "code",
   "execution_count": 15,
   "metadata": {},
   "outputs": [],
   "source": [
    "# 2. Wyodrębnienie cech, zmiennych docelowych i podział na zbiór treningowy i testowy:\n",
    "\n",
    "X = data.iloc[:, 4:]  # cechy epigenetyczne\n",
    "y_regression = data['cg03683899']  # zmienna docelowa regresji\n",
    "y_classification = data['Smoking Status']  # zmienna docelowa klasyfikacji\n",
    "\n",
    "X_train_reg, X_test_reg, y_train_reg, y_test_reg = train_test_split(X, y_regression, test_size=0.2, random_state=42)\n",
    "X_train_clf, X_test_clf, y_train_clf, y_test_clf = train_test_split(X, y_classification, test_size=0.2, random_state=42)"
   ]
  },
  {
   "cell_type": "code",
   "execution_count": 16,
   "metadata": {},
   "outputs": [
    {
     "name": "stdout",
     "output_type": "stream",
     "text": [
      "Regresja liniowa - MSE: 1.3882856318492695e-30\n",
      "Regresja liniowa - R²: 1.0\n"
     ]
    }
   ],
   "source": [
    "# 3. Regresja liniowa i ocena modelu regresji\n",
    "\n",
    "lin_reg = LinearRegression()\n",
    "lin_reg.fit(X_train_reg, y_train_reg)\n",
    "y_pred_reg = lin_reg.predict(X_test_reg)\n",
    "\n",
    "mse = mean_squared_error(y_test_reg, y_pred_reg)\n",
    "r2 = r2_score(y_test_reg, y_pred_reg)\n",
    "print(\"Regresja liniowa - MSE:\", mse)\n",
    "print(\"Regresja liniowa - R²:\", r2)"
   ]
  },
  {
   "cell_type": "code",
   "execution_count": 17,
   "metadata": {},
   "outputs": [],
   "source": [
    "# 4. Klasyfikacja binarna\n",
    "svm_clf = SVC(kernel='linear', C=1.0, random_state=42)\n",
    "svm_clf.fit(X_train_clf, y_train_clf)\n",
    "y_pred_clf = svm_clf.predict(X_test_clf)"
   ]
  },
  {
   "cell_type": "code",
   "execution_count": 18,
   "metadata": {},
   "outputs": [
    {
     "name": "stdout",
     "output_type": "stream",
     "text": [
      "Klasyfikacja binarna - Accuracy: 0.704\n",
      "Klasyfikacja binarna - Raport klasyfikacji:\n",
      "              precision    recall  f1-score   support\n",
      "\n",
      "           0       0.00      0.00      0.00        37\n",
      "           1       0.70      1.00      0.83        88\n",
      "\n",
      "    accuracy                           0.70       125\n",
      "   macro avg       0.35      0.50      0.41       125\n",
      "weighted avg       0.50      0.70      0.58       125\n",
      "\n"
     ]
    }
   ],
   "source": [
    "# 5. Ocena modelu klasyfikacji\n",
    "\n",
    "accuracy = accuracy_score(y_test_clf, y_pred_clf)\n",
    "print(\"Klasyfikacja binarna - Accuracy:\", accuracy)\n",
    "print(\"Klasyfikacja binarna - Raport klasyfikacji:\")\n",
    "print(classification_report(y_test_clf, y_pred_clf, zero_division=0))"
   ]
  }
 ],
 "metadata": {
  "kernelspec": {
   "display_name": "Python 3",
   "language": "python",
   "name": "python3"
  },
  "language_info": {
   "codemirror_mode": {
    "name": "ipython",
    "version": 3
   },
   "file_extension": ".py",
   "mimetype": "text/x-python",
   "name": "python",
   "nbconvert_exporter": "python",
   "pygments_lexer": "ipython3",
   "version": "3.11.9"
  }
 },
 "nbformat": 4,
 "nbformat_minor": 2
}
