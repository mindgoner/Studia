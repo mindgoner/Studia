{
 "cells": [
  {
   "cell_type": "code",
   "execution_count": 456,
   "id": "8d0252ea",
   "metadata": {},
   "outputs": [],
   "source": [
    "# 1. Ładowanie biblioteki Pandas\n",
    "import pandas as pd"
   ]
  },
  {
   "cell_type": "code",
   "execution_count": null,
   "id": "64fca1a6",
   "metadata": {},
   "outputs": [],
   "source": [
    "# 2. Tworzenie ramki danych ze słownika\n",
    "dane_slownik = {\n",
    "    \"Kraj\": [\"Polska\", \"Niemcy\", \"Francja\"],\n",
    "    \"Ludność (mln)\": [38, 83, 67],\n",
    "    \"PKB (mld)\": [600, 4000, 3000]\n",
    "}\n",
    "ramka_danych_slownik = pd.DataFrame(dane_slownik)\n",
    "\n",
    "print(\"Ramka danych utworzona ze słownika:\")\n",
    "print(ramka_danych_slownik)"
   ]
  },
  {
   "cell_type": "code",
   "execution_count": null,
   "id": "dc594e1f",
   "metadata": {},
   "outputs": [],
   "source": [
    "# 3. Zachowanie ramki danych pobranych z pliku w formacie .csv\n",
    "plik_csv = \"IHME_GDP_1960_2050_Y2021M09D22.CSV\"\n",
    "ramka_danych_csv = pd.read_csv(plik_csv)\n",
    "print(\"\\nRamka danych wczytana z pliku CSV:\")\n",
    "print(ramka_danych_csv.head())"
   ]
  },
  {
   "cell_type": "code",
   "execution_count": null,
   "id": "9d072400",
   "metadata": {},
   "outputs": [],
   "source": [
    "# 4. Tworzenie ramki danych z listy list\n",
    "dane_lista = [\n",
    "    [\"Polska\", 38, 600],\n",
    "    [\"Niemcy\", 83, 4000],\n",
    "    [\"Francja\", 67, 3000]\n",
    "]\n",
    "ramka_danych_lista = pd.DataFrame(dane_lista, columns=[\"Kraj\", \"Ludność (mln)\", \"PKB (mld)\"])\n",
    "\n",
    "print(\"\\nRamka danych utworzona z listy list:\")\n",
    "print(ramka_danych_lista)"
   ]
  },
  {
   "cell_type": "code",
   "execution_count": null,
   "id": "c113b9aa",
   "metadata": {},
   "outputs": [],
   "source": [
    "# 5. Transponowanie (wymiana kolumny a wierszy)\n",
    "ramka_danych_slownik_transponowany = ramka_danych_slownik.T\n",
    "print(ramka_danych_slownik_transponowany)"
   ]
  },
  {
   "cell_type": "code",
   "execution_count": null,
   "id": "208c199e",
   "metadata": {},
   "outputs": [],
   "source": [
    "# 6. Wyświetlić pierwsze 10 wierszy ramki danych\n",
    "print(ramka_danych_csv.head(10))"
   ]
  },
  {
   "cell_type": "code",
   "execution_count": null,
   "id": "374068ee",
   "metadata": {},
   "outputs": [],
   "source": [
    "# 7. Wyświetlić ostatnie 10 wierszy ramki danych \n",
    "print(ramka_danych_csv.tail(10))"
   ]
  },
  {
   "cell_type": "code",
   "execution_count": null,
   "id": "f8e95ca8",
   "metadata": {},
   "outputs": [],
   "source": [
    "# 8. Wyświetlić informacje o ramce danych\n",
    "print(ramka_danych_csv.info())"
   ]
  },
  {
   "cell_type": "code",
   "execution_count": null,
   "id": "5276ebc0",
   "metadata": {},
   "outputs": [],
   "source": [
    "# 9. Wyświetlić ile wierszy i kolumn znajduje się w ramce danych\n",
    "print(ramka_danych_csv.shape)"
   ]
  },
  {
   "cell_type": "code",
   "execution_count": null,
   "id": "62f53d35",
   "metadata": {},
   "outputs": [],
   "source": [
    "# 10. Wyświetlić informacje statyczną o kolumnach liczbowych (wartości niepowtarzalne, średnia, odchylenie standardowe, minimum, kwartyle, maksimum)\n",
    "print(ramka_danych_csv.describe())"
   ]
  },
  {
   "cell_type": "code",
   "execution_count": null,
   "id": "ef73c9b6",
   "metadata": {},
   "outputs": [],
   "source": [
    "# 11. Wyświetlić informacje statyczną o kolumnach kategoryzowanych (ile unikalnych wartości, top - jaka jest najpopularniejsza wartość, freq - jak często najpopularniejsza)\n",
    "print(ramka_danych_csv.describe(include=['object']))"
   ]
  },
  {
   "cell_type": "code",
   "execution_count": 467,
   "id": "83bfbc6a",
   "metadata": {},
   "outputs": [],
   "source": [
    "# 12. Usunąć brakujące wartości w ramce danych\n",
    "ramka_danych_csv = ramka_danych_csv.dropna()"
   ]
  },
  {
   "cell_type": "code",
   "execution_count": null,
   "id": "f6d1363a",
   "metadata": {},
   "outputs": [],
   "source": [
    "# 13. Przedstawić wybór wierszy i kolumny używając nazw oraz indeksów na różne sposoby\n",
    "print(ramka_danych_csv.loc[0:5, ['location_name', 'gdp_ppp_mean']]) # Nazwy kolumn\n",
    "print(ramka_danych_csv.iloc[0:5, 1:3]) # Indeksy kolumn"
   ]
  },
  {
   "cell_type": "code",
   "execution_count": null,
   "id": "03785590",
   "metadata": {},
   "outputs": [],
   "source": [
    "# 14. Przedstawić wybór wierszy z ramki danych pod warunkiem określonej wartości kolumny\n",
    "print(ramka_danych_csv[ramka_danych_csv['location_name'] == 'Poland'])"
   ]
  },
  {
   "cell_type": "code",
   "execution_count": null,
   "id": "fdb3b79e",
   "metadata": {},
   "outputs": [],
   "source": [
    "# 15. Przedstawić wybór wierszy z ramki danych pod warunkiem spełnienia kilku warunków jednocześnie\n",
    "print(ramka_danych_csv[(ramka_danych_csv['location_name'] == 'Poland') & (ramka_danych_csv['year'] > 2024)])"
   ]
  },
  {
   "cell_type": "code",
   "execution_count": null,
   "id": "1031d0be",
   "metadata": {},
   "outputs": [],
   "source": [
    "# 16. Wybrać wiersze które zawierają w kolumnie skategoryzowanej określone słowo\n",
    "print(ramka_danych_csv[ramka_danych_csv['location_name'].str.contains('United', na=False)])"
   ]
  },
  {
   "cell_type": "code",
   "execution_count": null,
   "id": "fb0a87d1",
   "metadata": {},
   "outputs": [],
   "source": [
    "# 17. Wybrać wiersze które nie zawierają w kolumnie skategoryzowanej określonego słowa\n",
    "print(ramka_danych_csv[~ramka_danych_csv['location_name'].str.contains('United', na=False)])"
   ]
  },
  {
   "cell_type": "code",
   "execution_count": null,
   "id": "44487f2b",
   "metadata": {},
   "outputs": [],
   "source": [
    "# 18. Utwórz kolumnę na podstawie istniejącej\n",
    "ramka_danych_csv['gdp_ppp_diff'] = ramka_danych_csv['gdp_ppp_upper'] - ramka_danych_csv['gdp_ppp_lower'] # Utworzenie kolumny z różnicą między gdp_ppp_upper i gdp_ppp_lower\n",
    "print(ramka_danych_csv['gdp_ppp_diff'].head(10))"
   ]
  },
  {
   "cell_type": "code",
   "execution_count": 474,
   "id": "d4e03b46",
   "metadata": {},
   "outputs": [],
   "source": [
    "# 19. Usuń kolumnę\n",
    "# ramka_danych_csv = ramka_danych_csv.drop(columns=['gdp_ppp_diff']) # Nie usuwamy kolumy, bo operujemy na niej niżej!"
   ]
  },
  {
   "cell_type": "code",
   "execution_count": 475,
   "id": "82a2b416",
   "metadata": {},
   "outputs": [],
   "source": [
    "# 20. Zmień nazwę kolumny\n",
    "ramka_danych_csv = ramka_danych_csv.rename(columns={'gdp_ppp_diff': 'gdp_ppp_difference'})"
   ]
  },
  {
   "cell_type": "code",
   "execution_count": 476,
   "metadata": {},
   "outputs": [],
   "source": [
    "# 21. Zachowaj ramkę danych jako plik csv na komputerze\n",
    "ramka_danych_csv.to_csv('updated_data.csv', index=False)"
   ]
  },
  {
   "cell_type": "code",
   "execution_count": null,
   "id": "998b14b2",
   "metadata": {},
   "outputs": [],
   "source": [
    "# 22. Wyświetlić liczbę wierszy\n",
    "print(len(ramka_danych_csv))"
   ]
  },
  {
   "cell_type": "code",
   "execution_count": null,
   "id": "8961bd46",
   "metadata": {},
   "outputs": [],
   "source": [
    "# 23. Wyświetlić wartości unikatowe w kolumnie\n",
    "print(ramka_danych_csv['location_name'].unique())"
   ]
  },
  {
   "cell_type": "code",
   "execution_count": null,
   "id": "7388a739",
   "metadata": {},
   "outputs": [],
   "source": [
    "# 24. Wyświetlić liczby rekordów odpowiadających do wartości\n",
    "print(ramka_danych_csv['location_name'].value_counts())"
   ]
  },
  {
   "cell_type": "code",
   "execution_count": 480,
   "id": "3131db32",
   "metadata": {},
   "outputs": [],
   "source": [
    "# 25. Sortowanie wierszy ramki danych według wartości określonej kolumny (malejąco, rosnąco)\n",
    "ramka_danych_csv = ramka_danych_csv.sort_values(by='location_name', ascending=False)"
   ]
  },
  {
   "cell_type": "code",
   "execution_count": null,
   "id": "89455626",
   "metadata": {},
   "outputs": [],
   "source": [
    "# 26. Wyświetlić wierszy dla 10 największych (najmniejszych) wartości określonej kolumny\n",
    "print(ramka_danych_csv.nlargest(10, 'gdp_ppp_difference'))\n",
    "print(ramka_danych_csv.nsmallest(10, 'gdp_ppp_difference'))"
   ]
  },
  {
   "cell_type": "code",
   "execution_count": null,
   "id": "2b4b80cd",
   "metadata": {},
   "outputs": [],
   "source": [
    "# 27. Wyświetlić wierszy dla 10 największych wartości określonej kolumny pod warunkiem określonych wartości innej kolumny\n",
    "filtered_data = ramka_danych_csv[ramka_danych_csv['location_name'] == 'Global']\n",
    "print(filtered_data.nlargest(10, 'gdp_ppp_mean'))\n"
   ]
  },
  {
   "cell_type": "code",
   "execution_count": null,
   "id": "41499b18",
   "metadata": {},
   "outputs": [],
   "source": [
    "# 28. Grupowanie wierszy według wartości kolumny skategoryzowanej, potem uśrednienie wartości wszystkich kolumn w grupie - MultiIndex\n",
    "grouped_mean = ramka_danych_csv.groupby(['location_name', 'year']).mean(numeric_only=True)\n",
    "print(grouped_mean)"
   ]
  },
  {
   "cell_type": "code",
   "execution_count": null,
   "id": "6e611434",
   "metadata": {},
   "outputs": [],
   "source": [
    "# 29. Grupowanie wierszy według wartości kolumny skategoryzowanej, potem uśrednienie wartości dla pewnych kolumn, liczba wartości i mediana dla pozostałych kolumn w grupach\n",
    "grouped_stats = ramka_danych_csv.groupby('location_name').agg({\n",
    "    'gdp_ppp_mean': ['mean', 'count'],\n",
    "    'gdp_usd_mean': 'median',\n",
    "    'year': 'max'\n",
    "})\n",
    "print(grouped_stats)"
   ]
  },
  {
   "cell_type": "code",
   "execution_count": null,
   "id": "33f85173",
   "metadata": {},
   "outputs": [],
   "source": [
    "# 30. Wyświetlić nazwy kolumn indeksu złożonego\n",
    "print(grouped_mean.index.names)"
   ]
  },
  {
   "cell_type": "code",
   "execution_count": null,
   "id": "a5a3885a",
   "metadata": {},
   "outputs": [],
   "source": [
    "# 31. Posortować kolumnę˛ indeksu złożonego\n",
    "sorted_index = grouped_mean.sort_index()\n",
    "print(sorted_index)"
   ]
  },
  {
   "cell_type": "code",
   "execution_count": null,
   "id": "35d8faef",
   "metadata": {},
   "outputs": [],
   "source": [
    "# 32. Stworzyć tabele przestawną (pivot table) na podstawie ramki danych\n",
    "pivot_table = pd.pivot_table(ramka_danych_csv, values='gdp_ppp_mean', index=['location_name'], columns=['year'], aggfunc='mean')\n",
    "print(pivot_table)"
   ]
  },
  {
   "cell_type": "code",
   "execution_count": null,
   "id": "4176404e",
   "metadata": {},
   "outputs": [],
   "source": [
    "# 33. Wyświetlić indeksy i kolumny tabeli przestawnej\n",
    "print(pivot_table.index)\n",
    "print(pivot_table.columns)"
   ]
  },
  {
   "cell_type": "code",
   "execution_count": null,
   "id": "52314524",
   "metadata": {},
   "outputs": [],
   "source": [
    "# 34. Utwórz indeks złożony tabeli przestawnej i wyświetl go\n",
    "pivot_table = pivot_table.reset_index()\n",
    "pivot_table.set_index(['location_name'] + list(pivot_table.columns[1:]), inplace=True)\n",
    "print(pivot_table.index)"
   ]
  },
  {
   "cell_type": "code",
   "execution_count": 490,
   "id": "ddf0b40e",
   "metadata": {},
   "outputs": [],
   "source": [
    "# 35. Zaimportuj moduł pyplot z biblioteki matplotlib\n",
    "import matplotlib.pyplot as plt"
   ]
  },
  {
   "cell_type": "code",
   "execution_count": 491,
   "id": "5828c2e4",
   "metadata": {},
   "outputs": [],
   "source": [
    "# 36. Wskazać, że wykresy należy rysować bezpośrednio w zeszycie, a nie w osobnej zakładce\n",
    "%matplotlib inline"
   ]
  },
  {
   "cell_type": "code",
   "execution_count": null,
   "id": "1b3f113c",
   "metadata": {},
   "outputs": [],
   "source": [
    "# 37. Wyświetlić wykres na podstawie tabeli przestawnej\n",
    "pivot_table_reset = pivot_table.reset_index()  # Resetowanie indeksu, aby \"year\" i \"location_name\" były kolumnami\n",
    "pivot_table_numeric = pivot_table_reset.select_dtypes(include=['float64', 'int64'])  # Wybieramy tylko dane numeryczne\n",
    "pivot_table_numeric.plot(kind='line', figsize=(10,6))\n",
    "plt.title('GDP PPP Mean by Location and Year')\n",
    "plt.xlabel('Year')\n",
    "plt.ylabel('GDP PPP Mean')\n",
    "plt.show()"
   ]
  },
  {
   "cell_type": "code",
   "execution_count": null,
   "id": "060d3fb9",
   "metadata": {},
   "outputs": [],
   "source": [
    "# 38. Narysować histogram na podstawie wartości kolumny\n",
    "ramka_danych_csv['year'].hist(bins=30, figsize=(10,6))\n",
    "plt.title('Histogram')\n",
    "plt.xlabel('Year')\n",
    "plt.ylabel('Częstotliwość')\n",
    "plt.show()"
   ]
  },
  {
   "cell_type": "code",
   "execution_count": null,
   "id": "e5d055f4",
   "metadata": {},
   "outputs": [],
   "source": [
    "# 39. Przedstawić sposoby łączenia ramek danych za pomocą metod merge i concat\n",
    "# Metoda merge:\n",
    "df1 = pd.DataFrame({'key': ['A', 'B', 'C'], 'value1': [1, 2, 3]})\n",
    "df2 = pd.DataFrame({'key': ['A', 'B', 'D'], 'value2': [4, 5, 6]})\n",
    "merged_df = pd.merge(df1, df2, on='key', how='inner')\n",
    "print(merged_df)\n",
    "# Metoda konkatenacji:\n",
    "df3 = pd.DataFrame({'key': ['A', 'B'], 'value1': [7, 8]})\n",
    "df4 = pd.DataFrame({'key': ['C', 'D'], 'value1': [9, 10]})\n",
    "concatenated_df = pd.concat([df3, df4], ignore_index=True)\n",
    "print(concatenated_df)"
   ]
  },
  {
   "cell_type": "code",
   "execution_count": null,
   "id": "c6ee41a9",
   "metadata": {},
   "outputs": [],
   "source": [
    "# 40. Pokazać dodawanie nowych kolumn za pomocą operacji matematycznych\n",
    "ramka_danych_csv['gdp_growth'] = ramka_danych_csv['gdp_ppp_mean'] / ramka_danych_csv['gdp_ppp_mean'].shift(1) - 1\n",
    "print(ramka_danych_csv[['location_name', 'year', 'gdp_growth']].head())\n"
   ]
  },
  {
   "cell_type": "code",
   "execution_count": null,
   "id": "d22c05ac",
   "metadata": {},
   "outputs": [],
   "source": [
    "# 41. Przedstawić na przykładzie dodawanie nowych kolumn z pomocą funkcji lambda\n",
    "ramka_danych_csv['gdp_per_capita'] = ramka_danych_csv.apply(lambda row: row['gdp_ppp_mean'] / row['gdp_usd_mean'], axis=1)\n",
    "print(ramka_danych_csv[['location_name', 'year', 'gdp_per_capita']].head())\n"
   ]
  },
  {
   "cell_type": "code",
   "execution_count": null,
   "id": "e8947d69",
   "metadata": {},
   "outputs": [],
   "source": [
    "# 42. Przedstawić możliwości pracy z dużymi plikami przy użyciu argumentu chunksize\n",
    "chunksize = 10000\n",
    "for chunk in pd.read_csv('IHME_GDP_1960_2050_Y2021M09D22.CSV', chunksize=chunksize):\n",
    "    print(chunk.head(4))  # Wyświetlanie pierwszych 5 wierszy z każdej części"
   ]
  }
 ],
 "metadata": {
  "kernelspec": {
   "display_name": "Python 3",
   "language": "python",
   "name": "python3"
  },
  "language_info": {
   "codemirror_mode": {
    "name": "ipython",
    "version": 3
   },
   "file_extension": ".py",
   "mimetype": "text/x-python",
   "name": "python",
   "nbconvert_exporter": "python",
   "pygments_lexer": "ipython3",
   "version": "3.11.9"
  }
 },
 "nbformat": 4,
 "nbformat_minor": 5
}
