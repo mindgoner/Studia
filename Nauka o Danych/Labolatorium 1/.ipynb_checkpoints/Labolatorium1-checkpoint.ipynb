{
 "cells": [
  {
   "cell_type": "code",
   "execution_count": null,
   "id": "39f4b8f0-d60d-42a6-af9c-2b37f1124dc7",
   "metadata": {},
   "outputs": [],
   "source": [
    "print(\"123\")\n",
    "print(\"321\")"
   ]
  },
  {
   "cell_type": "code",
   "execution_count": null,
   "id": "8e306c9d-35f4-4c03-b137-4ce862fa3894",
   "metadata": {},
   "outputs": [],
   "source": [
    "print(\"456\")"
   ]
  }
 ],
 "metadata": {
  "kernelspec": {
   "display_name": "Python 3 (ipykernel)",
   "language": "python",
   "name": "python3"
  },
  "language_info": {
   "codemirror_mode": {
    "name": "ipython",
    "version": 3
   },
   "file_extension": ".py",
   "mimetype": "text/x-python",
   "name": "python",
   "nbconvert_exporter": "python",
   "pygments_lexer": "ipython3",
   "version": "3.11.9"
  }
 },
 "nbformat": 4,
 "nbformat_minor": 5
}
