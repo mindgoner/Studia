{
 "cells": [
  {
   "cell_type": "code",
   "execution_count": 203,
   "id": "8d0252ea",
   "metadata": {},
   "outputs": [],
   "source": [
    "# 1. Ładowanie biblioteki Pandas\n",
    "import pandas as pd"
   ]
  },
  {
   "cell_type": "code",
   "execution_count": 204,
   "id": "64fca1a6",
   "metadata": {},
   "outputs": [
    {
     "name": "stdout",
     "output_type": "stream",
     "text": [
      "Ramka danych utworzona ze słownika:\n",
      "      Kraj  Ludność (mln)  PKB (mld)\n",
      "0   Polska             38        600\n",
      "1   Niemcy             83       4000\n",
      "2  Francja             67       3000\n"
     ]
    }
   ],
   "source": [
    "# 2. Tworzenie ramki danych ze słownika\n",
    "dane_slownik = {\n",
    "    \"Kraj\": [\"Polska\", \"Niemcy\", \"Francja\"],\n",
    "    \"Ludność (mln)\": [38, 83, 67],\n",
    "    \"PKB (mld)\": [600, 4000, 3000]\n",
    "}\n",
    "ramka_danych_slownik = pd.DataFrame(dane_slownik)\n",
    "\n",
    "print(\"Ramka danych utworzona ze słownika:\")\n",
    "print(ramka_danych_slownik)"
   ]
  },
  {
   "cell_type": "code",
   "execution_count": 205,
   "id": "dc594e1f",
   "metadata": {},
   "outputs": [
    {
     "name": "stdout",
     "output_type": "stream",
     "text": [
      "\n",
      "Ramka danych wczytana z pliku CSV:\n",
      "   location_id location_name iso3   level  year  gdp_ppp_mean  gdp_ppp_lower  \\\n",
      "0            1        Global    G  Global  1960  1.748345e+13   1.601915e+13   \n",
      "1            1        Global    G  Global  1961  1.813537e+13   1.659537e+13   \n",
      "2            1        Global    G  Global  1962  1.895328e+13   1.739039e+13   \n",
      "3            1        Global    G  Global  1963  1.965662e+13   1.811706e+13   \n",
      "4            1        Global    G  Global  1964  2.100575e+13   1.935664e+13   \n",
      "\n",
      "   gdp_ppp_upper  gdp_usd_mean  gdp_usd_lower  gdp_usd_upper  \n",
      "0   1.911586e+13  1.296863e+13   1.266890e+13   1.334177e+13  \n",
      "1   1.982493e+13  1.346097e+13   1.314767e+13   1.383021e+13  \n",
      "2   2.061477e+13  1.406576e+13   1.376060e+13   1.443746e+13  \n",
      "3   2.134993e+13  1.461831e+13   1.432132e+13   1.497693e+13  \n",
      "4   2.276791e+13  1.552986e+13   1.523498e+13   1.587998e+13  \n"
     ]
    }
   ],
   "source": [
    "# 3. Zachowanie ramki danych pobranych z pliku w formacie .csv\n",
    "plik_csv = \"IHME_GDP_1960_2050_Y2021M09D22.CSV\"\n",
    "ramka_danych_csv = pd.read_csv(plik_csv)\n",
    "print(\"\\nRamka danych wczytana z pliku CSV:\")\n",
    "print(ramka_danych_csv.head())"
   ]
  },
  {
   "cell_type": "code",
   "execution_count": 206,
   "id": "9d072400",
   "metadata": {},
   "outputs": [
    {
     "name": "stdout",
     "output_type": "stream",
     "text": [
      "\n",
      "Ramka danych utworzona z listy list:\n",
      "      Kraj  Ludność (mln)  PKB (mld)\n",
      "0   Polska             38        600\n",
      "1   Niemcy             83       4000\n",
      "2  Francja             67       3000\n"
     ]
    }
   ],
   "source": [
    "# 4. Tworzenie ramki danych z listy list\n",
    "dane_lista = [\n",
    "    [\"Polska\", 38, 600],\n",
    "    [\"Niemcy\", 83, 4000],\n",
    "    [\"Francja\", 67, 3000]\n",
    "]\n",
    "ramka_danych_lista = pd.DataFrame(dane_lista, columns=[\"Kraj\", \"Ludność (mln)\", \"PKB (mld)\"])\n",
    "\n",
    "print(\"\\nRamka danych utworzona z listy list:\")\n",
    "print(ramka_danych_lista)"
   ]
  },
  {
   "cell_type": "code",
   "execution_count": 207,
   "id": "c113b9aa",
   "metadata": {},
   "outputs": [
    {
     "name": "stdout",
     "output_type": "stream",
     "text": [
      "                    0       1        2\n",
      "Kraj           Polska  Niemcy  Francja\n",
      "Ludność (mln)      38      83       67\n",
      "PKB (mld)         600    4000     3000\n"
     ]
    }
   ],
   "source": [
    "# 5. Transponowanie (wymiana kolumny a wierszy)\n",
    "ramka_danych_slownik_transponowany = ramka_danych_slownik.T\n",
    "print(ramka_danych_slownik_transponowany)"
   ]
  },
  {
   "cell_type": "code",
   "execution_count": 208,
   "id": "208c199e",
   "metadata": {},
   "outputs": [
    {
     "name": "stdout",
     "output_type": "stream",
     "text": [
      "   location_id location_name iso3   level  year  gdp_ppp_mean  gdp_ppp_lower  \\\n",
      "0            1        Global    G  Global  1960  1.748345e+13   1.601915e+13   \n",
      "1            1        Global    G  Global  1961  1.813537e+13   1.659537e+13   \n",
      "2            1        Global    G  Global  1962  1.895328e+13   1.739039e+13   \n",
      "3            1        Global    G  Global  1963  1.965662e+13   1.811706e+13   \n",
      "4            1        Global    G  Global  1964  2.100575e+13   1.935664e+13   \n",
      "5            1        Global    G  Global  1965  2.202459e+13   2.034585e+13   \n",
      "6            1        Global    G  Global  1966  2.306193e+13   2.136085e+13   \n",
      "7            1        Global    G  Global  1967  2.391268e+13   2.217842e+13   \n",
      "8            1        Global    G  Global  1968  2.516723e+13   2.340479e+13   \n",
      "9            1        Global    G  Global  1969  2.642403e+13   2.464521e+13   \n",
      "\n",
      "   gdp_ppp_upper  gdp_usd_mean  gdp_usd_lower  gdp_usd_upper  \n",
      "0   1.911586e+13  1.296863e+13   1.266890e+13   1.334177e+13  \n",
      "1   1.982493e+13  1.346097e+13   1.314767e+13   1.383021e+13  \n",
      "2   2.061477e+13  1.406576e+13   1.376060e+13   1.443746e+13  \n",
      "3   2.134993e+13  1.461831e+13   1.432132e+13   1.497693e+13  \n",
      "4   2.276791e+13  1.552986e+13   1.523498e+13   1.587998e+13  \n",
      "5   2.382275e+13  1.628972e+13   1.598727e+13   1.663310e+13  \n",
      "6   2.489782e+13  1.708885e+13   1.678223e+13   1.742396e+13  \n",
      "7   2.577837e+13  1.770884e+13   1.740660e+13   1.804193e+13  \n",
      "8   2.698215e+13  1.865379e+13   1.833216e+13   1.898399e+13  \n",
      "9   2.831984e+13  1.955395e+13   1.921164e+13   1.987990e+13  \n"
     ]
    }
   ],
   "source": [
    "# 6. Wyświetlić pierwsze 10 wierszy ramki danych\n",
    "print(ramka_danych_csv.head(10))"
   ]
  },
  {
   "cell_type": "code",
   "execution_count": 209,
   "id": "374068ee",
   "metadata": {},
   "outputs": [
    {
     "name": "stdout",
     "output_type": "stream",
     "text": [
      "       location_id location_name iso3                    level  year  \\\n",
      "19828        44578    Low income  NaN  World Bank Income Group  2041   \n",
      "19829        44578    Low income  NaN  World Bank Income Group  2042   \n",
      "19830        44578    Low income  NaN  World Bank Income Group  2043   \n",
      "19831        44578    Low income  NaN  World Bank Income Group  2044   \n",
      "19832        44578    Low income  NaN  World Bank Income Group  2045   \n",
      "19833        44578    Low income  NaN  World Bank Income Group  2046   \n",
      "19834        44578    Low income  NaN  World Bank Income Group  2047   \n",
      "19835        44578    Low income  NaN  World Bank Income Group  2048   \n",
      "19836        44578    Low income  NaN  World Bank Income Group  2049   \n",
      "19837        44578    Low income  NaN  World Bank Income Group  2050   \n",
      "\n",
      "       gdp_ppp_mean  gdp_ppp_lower  gdp_ppp_upper  gdp_usd_mean  \\\n",
      "19828  3.120963e+12   2.724077e+12   3.582807e+12  9.752426e+11   \n",
      "19829  3.216988e+12   2.801335e+12   3.686394e+12  1.008813e+12   \n",
      "19830  3.314031e+12   2.886768e+12   3.815672e+12  1.042881e+12   \n",
      "19831  3.413020e+12   2.968361e+12   3.933135e+12  1.077714e+12   \n",
      "19832  3.514244e+12   3.055623e+12   4.049325e+12  1.113207e+12   \n",
      "19833  3.617310e+12   3.140835e+12   4.166469e+12  1.149318e+12   \n",
      "19834  3.724063e+12   3.225849e+12   4.292403e+12  1.186597e+12   \n",
      "19835  3.831942e+12   3.307609e+12   4.424674e+12  1.224062e+12   \n",
      "19836  3.941856e+12   3.398884e+12   4.560961e+12  1.262129e+12   \n",
      "19837  4.053883e+12   3.482933e+12   4.713596e+12  1.300764e+12   \n",
      "\n",
      "       gdp_usd_lower  gdp_usd_upper  \n",
      "19828   8.875033e+11   1.068693e+12  \n",
      "19829   9.169149e+11   1.107239e+12  \n",
      "19830   9.461940e+11   1.147550e+12  \n",
      "19831   9.735487e+11   1.188093e+12  \n",
      "19832   1.003241e+12   1.228145e+12  \n",
      "19833   1.031500e+12   1.271992e+12  \n",
      "19834   1.061313e+12   1.318836e+12  \n",
      "19835   1.092874e+12   1.365610e+12  \n",
      "19836   1.122895e+12   1.413991e+12  \n",
      "19837   1.151548e+12   1.457362e+12  \n"
     ]
    }
   ],
   "source": [
    "# 7. Wyświetlić ostatnie 10 wierszy ramki danych \n",
    "print(ramka_danych_csv.tail(10))"
   ]
  },
  {
   "cell_type": "code",
   "execution_count": 210,
   "id": "f8e95ca8",
   "metadata": {},
   "outputs": [
    {
     "name": "stdout",
     "output_type": "stream",
     "text": [
      "<class 'pandas.core.frame.DataFrame'>\n",
      "RangeIndex: 19838 entries, 0 to 19837\n",
      "Data columns (total 11 columns):\n",
      " #   Column         Non-Null Count  Dtype  \n",
      "---  ------         --------------  -----  \n",
      " 0   location_id    19838 non-null  int64  \n",
      " 1   location_name  19838 non-null  object \n",
      " 2   iso3           18655 non-null  object \n",
      " 3   level          19838 non-null  object \n",
      " 4   year           19838 non-null  int64  \n",
      " 5   gdp_ppp_mean   19838 non-null  float64\n",
      " 6   gdp_ppp_lower  19838 non-null  float64\n",
      " 7   gdp_ppp_upper  19838 non-null  float64\n",
      " 8   gdp_usd_mean   19838 non-null  float64\n",
      " 9   gdp_usd_lower  19838 non-null  float64\n",
      " 10  gdp_usd_upper  19838 non-null  float64\n",
      "dtypes: float64(6), int64(2), object(3)\n",
      "memory usage: 1.7+ MB\n",
      "None\n"
     ]
    }
   ],
   "source": [
    "# 8. Wyświetlić informacje o ramce danych\n",
    "print(ramka_danych_csv.info())"
   ]
  },
  {
   "cell_type": "code",
   "execution_count": 211,
   "id": "5276ebc0",
   "metadata": {},
   "outputs": [
    {
     "name": "stdout",
     "output_type": "stream",
     "text": [
      "(19838, 11)\n"
     ]
    }
   ],
   "source": [
    "# 9. Wyświetlić ile wierszy i kolumn znajduje się w ramce danych\n",
    "print(ramka_danych_csv.shape)"
   ]
  },
  {
   "cell_type": "code",
   "execution_count": 212,
   "id": "62f53d35",
   "metadata": {},
   "outputs": [
    {
     "name": "stdout",
     "output_type": "stream",
     "text": [
      "        location_id          year  gdp_ppp_mean  gdp_ppp_lower  gdp_ppp_upper  \\\n",
      "count  19838.000000  19838.000000  1.983800e+04   1.983800e+04   1.983800e+04   \n",
      "mean     949.871560   2005.000000  1.334543e+12   1.235788e+12   1.444079e+12   \n",
      "std     5965.433243     26.268513  9.148287e+12   8.610030e+12   9.789327e+12   \n",
      "min        1.000000   1960.000000  1.448063e+02   6.299026e+01   2.621094e+02   \n",
      "25%       63.000000   1982.000000  3.678736e+03   2.639116e+03   4.829886e+03   \n",
      "50%      125.500000   2005.000000  1.103640e+04   8.105541e+03   1.346178e+04   \n",
      "75%      183.000000   2028.000000  2.949281e+04   2.308992e+04   3.562660e+04   \n",
      "max    44578.000000   2050.000000  1.827414e+14   1.667007e+14   2.025062e+14   \n",
      "\n",
      "       gdp_usd_mean  gdp_usd_lower  gdp_usd_upper  \n",
      "count  1.983800e+04   1.983800e+04   1.983800e+04  \n",
      "mean   8.554096e+11   8.197528e+11   8.967612e+11  \n",
      "std    6.286364e+12   6.041288e+12   6.585419e+12  \n",
      "min    1.174979e+02   8.318772e+01   1.270468e+02  \n",
      "25%    1.624411e+03   1.395430e+03   1.828575e+03  \n",
      "50%    4.863298e+03   4.279291e+03   5.465731e+03  \n",
      "75%    1.997525e+04   1.795003e+04   2.223434e+04  \n",
      "max    1.119468e+14   1.017185e+14   1.239708e+14  \n"
     ]
    }
   ],
   "source": [
    "# 10. Wyświetlić informacje statyczną o kolumnach liczbowych (wartości niepowtarzalne, średnia, odchylenie standardowe, minimum, kwartyle, maksimum)\n",
    "print(ramka_danych_csv.describe())"
   ]
  },
  {
   "cell_type": "code",
   "execution_count": 213,
   "id": "ef73c9b6",
   "metadata": {},
   "outputs": [
    {
     "name": "stdout",
     "output_type": "stream",
     "text": [
      "       location_name   iso3    level\n",
      "count          19838  18655    19838\n",
      "unique           216    205        4\n",
      "top       South Asia      G  Country\n",
      "freq             182     91    18564\n"
     ]
    }
   ],
   "source": [
    "# 11. Wyświetlić informacje statyczną o kolumnach kategoryzowanych (ile unikalnych wartości, top - jaka jest najpopularniejsza wartość, freq - jak często najpopularniejsza)\n",
    "print(ramka_danych_csv.describe(include=['object']))"
   ]
  },
  {
   "cell_type": "code",
   "execution_count": 214,
   "id": "83bfbc6a",
   "metadata": {},
   "outputs": [],
   "source": [
    "# 12. Usunąć brakujące wartości w ramce danych\n",
    "ramka_danych_csv = ramka_danych_csv.dropna()"
   ]
  },
  {
   "cell_type": "code",
   "execution_count": 215,
   "id": "f6d1363a",
   "metadata": {},
   "outputs": [
    {
     "name": "stdout",
     "output_type": "stream",
     "text": [
      "  location_name  gdp_ppp_mean\n",
      "0        Global  1.748345e+13\n",
      "1        Global  1.813537e+13\n",
      "2        Global  1.895328e+13\n",
      "3        Global  1.965662e+13\n",
      "4        Global  2.100575e+13\n",
      "5        Global  2.202459e+13\n",
      "  location_name iso3\n",
      "0        Global    G\n",
      "1        Global    G\n",
      "2        Global    G\n",
      "3        Global    G\n",
      "4        Global    G\n"
     ]
    }
   ],
   "source": [
    "# 13. Przedstawić wybór wierszy i kolumny używając nazw oraz indeksów na różne sposoby\n",
    "print(ramka_danych_csv.loc[0:5, ['location_name', 'gdp_ppp_mean']]) # Nazwy kolumn\n",
    "print(ramka_danych_csv.iloc[0:5, 1:3]) # Indeksy kolumn"
   ]
  },
  {
   "cell_type": "code",
   "execution_count": 216,
   "id": "03785590",
   "metadata": {},
   "outputs": [
    {
     "name": "stdout",
     "output_type": "stream",
     "text": [
      "      location_id location_name iso3    level  year  gdp_ppp_mean  \\\n",
      "3913           51        Poland  POL  Country  1960   6477.852541   \n",
      "3914           51        Poland  POL  Country  1961   6854.160388   \n",
      "3915           51        Poland  POL  Country  1962   6696.268564   \n",
      "3916           51        Poland  POL  Country  1963   6981.908383   \n",
      "3917           51        Poland  POL  Country  1964   7192.051449   \n",
      "...           ...           ...  ...      ...   ...           ...   \n",
      "3999           51        Poland  POL  Country  2046  38341.602497   \n",
      "4000           51        Poland  POL  Country  2047  38361.930630   \n",
      "4001           51        Poland  POL  Country  2048  38342.127372   \n",
      "4002           51        Poland  POL  Country  2049  38291.223003   \n",
      "4003           51        Poland  POL  Country  2050  38239.561147   \n",
      "\n",
      "      gdp_ppp_lower  gdp_ppp_upper  gdp_usd_mean  gdp_usd_lower  gdp_usd_upper  \n",
      "3913    3974.353115    8867.341510   3340.866044    3013.073267    3767.183362  \n",
      "3914    4209.334194    9266.617081   3528.521854    3181.314168    3955.470420  \n",
      "3915    4137.676353    9056.936779   3447.774153    3104.590497    3867.083569  \n",
      "3916    4381.353870    9390.144726   3589.554120    3242.049335    4016.402456  \n",
      "3917    4537.064677    9677.839801   3693.222182    3344.989514    4126.100385  \n",
      "...             ...            ...           ...            ...            ...  \n",
      "3999   28096.663520   51449.445517  17392.703365   12862.490537   23265.109294  \n",
      "4000   27796.090370   52186.079877  17401.902620   12665.251631   23581.749549  \n",
      "4001   27466.932992   52654.694631  17393.027956   12498.169215   23783.922827  \n",
      "4002   27105.252343   53056.023696  17369.859621   12305.183049   24051.240960  \n",
      "4003   26728.543779   53156.930801  17346.349035   12139.994778   24206.609198  \n",
      "\n",
      "[91 rows x 11 columns]\n"
     ]
    }
   ],
   "source": [
    "# 14. Przedstawić wybór wierszy z ramki danych pod warunkiem określonej wartości kolumny\n",
    "print(ramka_danych_csv[ramka_danych_csv['location_name'] == 'Poland'])"
   ]
  },
  {
   "cell_type": "code",
   "execution_count": 217,
   "id": "fdb3b79e",
   "metadata": {},
   "outputs": [
    {
     "name": "stdout",
     "output_type": "stream",
     "text": [
      "      location_id location_name iso3    level  year  gdp_ppp_mean  \\\n",
      "3978           51        Poland  POL  Country  2025  32746.999437   \n",
      "3979           51        Poland  POL  Country  2026  32914.035363   \n",
      "3980           51        Poland  POL  Country  2027  33150.861860   \n",
      "3981           51        Poland  POL  Country  2028  33466.534617   \n",
      "3982           51        Poland  POL  Country  2029  33845.943995   \n",
      "3983           51        Poland  POL  Country  2030  34262.156546   \n",
      "3984           51        Poland  POL  Country  2031  34684.507200   \n",
      "3985           51        Poland  POL  Country  2032  35094.834819   \n",
      "3986           51        Poland  POL  Country  2033  35489.219953   \n",
      "3987           51        Poland  POL  Country  2034  35879.588365   \n",
      "3988           51        Poland  POL  Country  2035  36263.317214   \n",
      "3989           51        Poland  POL  Country  2036  36623.408529   \n",
      "3990           51        Poland  POL  Country  2037  36958.569309   \n",
      "3991           51        Poland  POL  Country  2038  37248.918811   \n",
      "3992           51        Poland  POL  Country  2039  37497.939670   \n",
      "3993           51        Poland  POL  Country  2040  37703.604057   \n",
      "3994           51        Poland  POL  Country  2041  37879.536633   \n",
      "3995           51        Poland  POL  Country  2042  38038.938282   \n",
      "3996           51        Poland  POL  Country  2043  38167.733724   \n",
      "3997           51        Poland  POL  Country  2044  38255.709502   \n",
      "3998           51        Poland  POL  Country  2045  38310.991457   \n",
      "3999           51        Poland  POL  Country  2046  38341.602497   \n",
      "4000           51        Poland  POL  Country  2047  38361.930630   \n",
      "4001           51        Poland  POL  Country  2048  38342.127372   \n",
      "4002           51        Poland  POL  Country  2049  38291.223003   \n",
      "4003           51        Poland  POL  Country  2050  38239.561147   \n",
      "\n",
      "      gdp_ppp_lower  gdp_ppp_upper  gdp_usd_mean  gdp_usd_lower  gdp_usd_upper  \n",
      "3978   30092.195731   35503.313225  14854.849644   14056.398773   15663.528879  \n",
      "3979   30046.680048   35995.808629  14930.623781   13960.885206   15925.104161  \n",
      "3980   30041.903293   36610.693734  15038.027521   13912.362504   16230.319850  \n",
      "3981   30109.057428   37248.220741  15181.254112   13888.157933   16582.456688  \n",
      "3982   30090.325852   38041.964433  15353.331066   13889.111499   16968.669700  \n",
      "3983   30186.653655   38853.442510  15542.161674   13915.431093   17385.081872  \n",
      "3984   30209.883184   39742.317576  15733.699224   13858.453725   17760.333322  \n",
      "3985   30242.053023   40568.105501  15919.873491   13830.697742   18222.190232  \n",
      "3986   30241.783438   41443.235244  16098.718258   13797.457684   18617.895687  \n",
      "3987   30266.595933   42462.257986  16275.785255   13745.584028   19099.749770  \n",
      "3988   30205.053229   43340.288613  16449.871159   13742.795346   19506.562473  \n",
      "3989   30174.544960   44185.732988  16613.238344   13656.622696   19947.251805  \n",
      "3990   30087.477029   45077.191565  16765.299346   13687.881303   20306.946127  \n",
      "3991   30023.264809   45975.391029  16897.055787   13648.635010   20730.760082  \n",
      "3992   29889.878587   46915.521299  17010.031047   13616.621123   21116.041100  \n",
      "3993   29784.460066   47441.689278  17103.321801   13514.969487   21467.346446  \n",
      "3994   29534.567189   48331.668321  17183.191423   13383.267219   21827.744208  \n",
      "3995   29205.795211   49230.732911  17255.501259   13298.015373   22242.787940  \n",
      "3996   28876.433219   49729.333605  17313.833385   13152.190918   22513.534843  \n",
      "3997   28612.932167   50457.779813  17353.713535   13095.302179   22773.395829  \n",
      "3998   28210.802867   50856.938961  17378.830577   12966.356828   22982.886727  \n",
      "3999   28096.663520   51449.445517  17392.703365   12862.490537   23265.109294  \n",
      "4000   27796.090370   52186.079877  17401.902620   12665.251631   23581.749549  \n",
      "4001   27466.932992   52654.694631  17393.027956   12498.169215   23783.922827  \n",
      "4002   27105.252343   53056.023696  17369.859621   12305.183049   24051.240960  \n",
      "4003   26728.543779   53156.930801  17346.349035   12139.994778   24206.609198  \n"
     ]
    }
   ],
   "source": [
    "# 15. Przedstawić wybór wierszy z ramki danych pod warunkiem spełnienia kilku warunków jednocześnie\n",
    "print(ramka_danych_csv[(ramka_danych_csv['location_name'] == 'Poland') & (ramka_danych_csv['year'] > 2024)])"
   ]
  },
  {
   "cell_type": "code",
   "execution_count": 218,
   "id": "1031d0be",
   "metadata": {},
   "outputs": [
    {
     "name": "stdout",
     "output_type": "stream",
     "text": [
      "       location_id                 location_name iso3    level  year  \\\n",
      "7553            95                United Kingdom  GBR  Country  1960   \n",
      "7554            95                United Kingdom  GBR  Country  1961   \n",
      "7555            95                United Kingdom  GBR  Country  1962   \n",
      "7556            95                United Kingdom  GBR  Country  1963   \n",
      "7557            95                United Kingdom  GBR  Country  1964   \n",
      "...            ...                           ...  ...      ...   ...   \n",
      "19287          422  United States Virgin Islands  VIR  Country  2046   \n",
      "19288          422  United States Virgin Islands  VIR  Country  2047   \n",
      "19289          422  United States Virgin Islands  VIR  Country  2048   \n",
      "19290          422  United States Virgin Islands  VIR  Country  2049   \n",
      "19291          422  United States Virgin Islands  VIR  Country  2050   \n",
      "\n",
      "       gdp_ppp_mean  gdp_ppp_lower  gdp_ppp_upper  gdp_usd_mean  \\\n",
      "7553   16310.982717   13739.359462   18211.080013  14468.928557   \n",
      "7554   16637.378306   14021.255691   18552.357712  14738.960806   \n",
      "7555   16699.652950   14116.793663   18618.780049  14794.176887   \n",
      "7556   17204.352407   14568.220451   19153.680713  15283.800698   \n",
      "7557   17964.368546   15412.086655   19860.371971  15932.807887   \n",
      "...             ...            ...            ...           ...   \n",
      "19287  41287.177057   30556.895863   55066.904811  41234.500216   \n",
      "19288  41596.380683   30505.069557   56047.487106  41543.041145   \n",
      "19289  41923.883728   30508.427873   56639.931939  41869.856709   \n",
      "19290  42269.179899   30601.194839   57629.728086  42214.585846   \n",
      "19291  42600.038587   30535.154812   58469.665785  42545.067618   \n",
      "\n",
      "       gdp_usd_lower  gdp_usd_upper  \n",
      "7553    13698.701744   15172.657255  \n",
      "7554    13978.985853   15434.739721  \n",
      "7555    14036.102767   15483.073848  \n",
      "7556    14647.369479   15921.312162  \n",
      "7557    15383.515617   16539.728393  \n",
      "...              ...            ...  \n",
      "19287   31638.150835   53139.473363  \n",
      "19288   31569.471257   53287.294060  \n",
      "19289   31488.955147   54291.408201  \n",
      "19290   31839.581250   54988.746887  \n",
      "19291   31823.556963   55743.351459  \n",
      "\n",
      "[455 rows x 11 columns]\n"
     ]
    }
   ],
   "source": [
    "# 16. Wybrać wiersze które zawierają w kolumnie skategoryzowanej określone słowo\n",
    "print(ramka_danych_csv[ramka_danych_csv['location_name'].str.contains('United', na=False)])"
   ]
  },
  {
   "cell_type": "code",
   "execution_count": 219,
   "id": "fb0a87d1",
   "metadata": {},
   "outputs": [
    {
     "name": "stdout",
     "output_type": "stream",
     "text": [
      "       location_id location_name iso3    level  year  gdp_ppp_mean  \\\n",
      "0                1        Global    G   Global  1960  1.748345e+13   \n",
      "1                1        Global    G   Global  1961  1.813537e+13   \n",
      "2                1        Global    G   Global  1962  1.895328e+13   \n",
      "3                1        Global    G   Global  1963  1.965662e+13   \n",
      "4                1        Global    G   Global  1964  2.100575e+13   \n",
      "...            ...           ...  ...      ...   ...           ...   \n",
      "19469          522         Sudan  SDN  Country  2046  6.656899e+03   \n",
      "19470          522         Sudan  SDN  Country  2047  6.729027e+03   \n",
      "19471          522         Sudan  SDN  Country  2048  6.796123e+03   \n",
      "19472          522         Sudan  SDN  Country  2049  6.866343e+03   \n",
      "19473          522         Sudan  SDN  Country  2050  6.935555e+03   \n",
      "\n",
      "       gdp_ppp_lower  gdp_ppp_upper  gdp_usd_mean  gdp_usd_lower  \\\n",
      "0       1.601915e+13   1.911586e+13  1.296863e+13   1.266890e+13   \n",
      "1       1.659537e+13   1.982493e+13  1.346097e+13   1.314767e+13   \n",
      "2       1.739039e+13   2.061477e+13  1.406576e+13   1.376060e+13   \n",
      "3       1.811706e+13   2.134993e+13  1.461831e+13   1.432132e+13   \n",
      "4       1.935664e+13   2.276791e+13  1.552986e+13   1.523498e+13   \n",
      "...              ...            ...           ...            ...   \n",
      "19469   3.356042e+03   1.155051e+04  1.459547e+03   9.801683e+02   \n",
      "19470   3.374504e+03   1.171206e+04  1.475378e+03   9.886902e+02   \n",
      "19471   3.398699e+03   1.184386e+04  1.490021e+03   9.935248e+02   \n",
      "19472   3.417444e+03   1.196204e+04  1.505368e+03   1.002889e+03   \n",
      "19473   3.429198e+03   1.208179e+04  1.520564e+03   1.002953e+03   \n",
      "\n",
      "       gdp_usd_upper  \n",
      "0       1.334177e+13  \n",
      "1       1.383021e+13  \n",
      "2       1.443746e+13  \n",
      "3       1.497693e+13  \n",
      "4       1.587998e+13  \n",
      "...              ...  \n",
      "19469   2.269566e+03  \n",
      "19470   2.286933e+03  \n",
      "19471   2.322390e+03  \n",
      "19472   2.362591e+03  \n",
      "19473   2.408108e+03  \n",
      "\n",
      "[18200 rows x 11 columns]\n"
     ]
    }
   ],
   "source": [
    "# 17. Wybrać wiersze które nie zawierają w kolumnie skategoryzowanej określonego słowa\n",
    "print(ramka_danych_csv[~ramka_danych_csv['location_name'].str.contains('United', na=False)])"
   ]
  },
  {
   "cell_type": "code",
   "execution_count": 220,
   "id": "44487f2b",
   "metadata": {},
   "outputs": [
    {
     "name": "stdout",
     "output_type": "stream",
     "text": [
      "0    3.096716e+12\n",
      "1    3.229556e+12\n",
      "2    3.224381e+12\n",
      "3    3.232877e+12\n",
      "4    3.411270e+12\n",
      "5    3.476908e+12\n",
      "6    3.536968e+12\n",
      "7    3.599954e+12\n",
      "8    3.577357e+12\n",
      "9    3.674624e+12\n",
      "Name: gdp_ppp_diff, dtype: float64\n"
     ]
    }
   ],
   "source": [
    "# 18. Utwórz kolumnę na podstawie istniejącej\n",
    "ramka_danych_csv['gdp_ppp_diff'] = ramka_danych_csv['gdp_ppp_upper'] - ramka_danych_csv['gdp_ppp_lower'] # Utworzenie kolumny z różnicą między gdp_ppp_upper i gdp_ppp_lower\n",
    "print(ramka_danych_csv['gdp_ppp_diff'].head(10))"
   ]
  },
  {
   "cell_type": "code",
   "execution_count": 221,
   "id": "d4e03b46",
   "metadata": {},
   "outputs": [],
   "source": [
    "# 19. Usuń kolumnę\n",
    "# ramka_danych_csv = ramka_danych_csv.drop(columns=['gdp_ppp_diff']) # Nie usuwamy kolumy, bo operujemy na niej niżej!"
   ]
  },
  {
   "cell_type": "code",
   "execution_count": 222,
   "id": "82a2b416",
   "metadata": {},
   "outputs": [],
   "source": [
    "# 20. Zmień nazwę kolumny\n",
    "ramka_danych_csv = ramka_danych_csv.rename(columns={'gdp_ppp_diff': 'gdp_ppp_difference'})"
   ]
  },
  {
   "cell_type": "code",
   "execution_count": 223,
   "id": "999e3e56",
   "metadata": {},
   "outputs": [],
   "source": [
    "# 21. Zachowaj ramkę danych jako plik csv na komputerze\n",
    "ramka_danych_csv.to_csv('updated_data.csv', index=False)"
   ]
  },
  {
   "cell_type": "code",
   "execution_count": 224,
   "id": "998b14b2",
   "metadata": {},
   "outputs": [
    {
     "name": "stdout",
     "output_type": "stream",
     "text": [
      "18655\n"
     ]
    }
   ],
   "source": [
    "# 22. Wyświetlić liczbę wierszy\n",
    "print(len(ramka_danych_csv))"
   ]
  },
  {
   "cell_type": "code",
   "execution_count": 225,
   "id": "8961bd46",
   "metadata": {},
   "outputs": [
    {
     "name": "stdout",
     "output_type": "stream",
     "text": [
      "['Global' 'China' \"Democratic People's Republic of Korea\"\n",
      " 'Taiwan (Province of China)' 'Cambodia' 'Indonesia'\n",
      " \"Lao People's Democratic Republic\" 'Malaysia' 'Maldives' 'Myanmar'\n",
      " 'Philippines' 'Sri Lanka' 'Thailand' 'Timor-Leste' 'Viet Nam' 'Fiji'\n",
      " 'Kiribati' 'Marshall Islands' 'Micronesia (Federated States of)'\n",
      " 'Papua New Guinea' 'Samoa' 'Solomon Islands' 'Tonga' 'Vanuatu' 'Armenia'\n",
      " 'Azerbaijan' 'Georgia' 'Kazakhstan' 'Kyrgyzstan' 'Mongolia' 'Tajikistan'\n",
      " 'Turkmenistan' 'Uzbekistan' 'Albania' 'Bosnia and Herzegovina' 'Bulgaria'\n",
      " 'Croatia' 'Czechia' 'Hungary' 'North Macedonia' 'Montenegro' 'Poland'\n",
      " 'Romania' 'Serbia' 'Slovakia' 'Slovenia' 'Belarus' 'Estonia' 'Latvia'\n",
      " 'Lithuania' 'Republic of Moldova' 'Russian Federation' 'Ukraine'\n",
      " 'Brunei Darussalam' 'Japan' 'Republic of Korea' 'Singapore' 'Australia'\n",
      " 'New Zealand' 'Andorra' 'Austria' 'Belgium' 'Cyprus' 'Denmark' 'Finland'\n",
      " 'France' 'Germany' 'Greece' 'Iceland' 'Ireland' 'Israel' 'Italy'\n",
      " 'Luxembourg' 'Malta' 'Netherlands' 'Norway' 'Portugal' 'Spain' 'Sweden'\n",
      " 'Switzerland' 'United Kingdom' 'Argentina' 'Chile' 'Uruguay' 'Canada'\n",
      " 'United States of America' 'Antigua and Barbuda' 'Bahamas' 'Barbados'\n",
      " 'Belize' 'Cuba' 'Dominica' 'Dominican Republic' 'Grenada' 'Guyana'\n",
      " 'Haiti' 'Jamaica' 'Saint Lucia' 'Saint Vincent and the Grenadines'\n",
      " 'Suriname' 'Trinidad and Tobago' 'Bolivia (Plurinational State of)'\n",
      " 'Ecuador' 'Peru' 'Colombia' 'Costa Rica' 'El Salvador' 'Guatemala'\n",
      " 'Honduras' 'Mexico' 'Nicaragua' 'Panama'\n",
      " 'Venezuela (Bolivarian Republic of)' 'Brazil' 'Paraguay' 'Algeria'\n",
      " 'Bahrain' 'Egypt' 'Iran (Islamic Republic of)' 'Iraq' 'Jordan' 'Kuwait'\n",
      " 'Lebanon' 'Libya' 'Morocco' 'Palestine' 'Oman' 'Qatar' 'Saudi Arabia'\n",
      " 'Syrian Arab Republic' 'Tunisia' 'Turkey' 'United Arab Emirates' 'Yemen'\n",
      " 'Afghanistan' 'Bangladesh' 'Bhutan' 'India' 'Nepal' 'Pakistan' 'Angola'\n",
      " 'Central African Republic' 'Congo' 'Democratic Republic of the Congo'\n",
      " 'Equatorial Guinea' 'Gabon' 'Burundi' 'Comoros' 'Djibouti' 'Eritrea'\n",
      " 'Ethiopia' 'Kenya' 'Madagascar' 'Malawi' 'Mauritius' 'Mozambique'\n",
      " 'Rwanda' 'Seychelles' 'Somalia' 'United Republic of Tanzania' 'Uganda'\n",
      " 'Zambia' 'Botswana' 'Lesotho' 'Namibia' 'South Africa' 'Eswatini'\n",
      " 'Zimbabwe' 'Benin' 'Burkina Faso' 'Cameroon' 'Cabo Verde' 'Chad'\n",
      " \"Côte d'Ivoire\" 'Gambia' 'Ghana' 'Guinea' 'Guinea-Bissau' 'Liberia'\n",
      " 'Mali' 'Mauritania' 'Niger' 'Nigeria' 'Sao Tome and Principe' 'Senegal'\n",
      " 'Sierra Leone' 'Togo' 'American Samoa' 'Bermuda' 'Cook Islands'\n",
      " 'Greenland' 'Guam' 'Monaco' 'Nauru' 'Niue' 'Northern Mariana Islands'\n",
      " 'Palau' 'Puerto Rico' 'Saint Kitts and Nevis' 'San Marino' 'Tokelau'\n",
      " 'Tuvalu' 'United States Virgin Islands' 'South Sudan' 'Sudan']\n"
     ]
    }
   ],
   "source": [
    "# 23. Wyświetlić wartości unikatowe w kolumnie\n",
    "print(ramka_danych_csv['location_name'].unique())"
   ]
  },
  {
   "cell_type": "code",
   "execution_count": 226,
   "id": "7388a739",
   "metadata": {},
   "outputs": [
    {
     "name": "stdout",
     "output_type": "stream",
     "text": [
      "location_name\n",
      "Global                                   91\n",
      "China                                    91\n",
      "Democratic People's Republic of Korea    91\n",
      "Taiwan (Province of China)               91\n",
      "Cambodia                                 91\n",
      "                                         ..\n",
      "Tokelau                                  91\n",
      "Tuvalu                                   91\n",
      "United States Virgin Islands             91\n",
      "South Sudan                              91\n",
      "Sudan                                    91\n",
      "Name: count, Length: 205, dtype: int64\n"
     ]
    }
   ],
   "source": [
    "# 24. Wyświetlić liczby rekordów odpowiadających do wartości\n",
    "print(ramka_danych_csv['location_name'].value_counts())"
   ]
  },
  {
   "cell_type": "code",
   "execution_count": 227,
   "id": "3131db32",
   "metadata": {},
   "outputs": [],
   "source": [
    "# 25. Sortowanie wierszy ramki danych według wartości określonej kolumny (malejąco, rosnąco)\n",
    "ramka_danych_csv = ramka_danych_csv.sort_values(by='location_name', ascending=False)"
   ]
  },
  {
   "cell_type": "code",
   "execution_count": 228,
   "id": "89455626",
   "metadata": {},
   "outputs": [
    {
     "name": "stdout",
     "output_type": "stream",
     "text": [
      "    location_id location_name iso3   level  year  gdp_ppp_mean  gdp_ppp_lower  \\\n",
      "90            1        Global    G  Global  2050  1.827414e+14   1.667007e+14   \n",
      "89            1        Global    G  Global  2049  1.811701e+14   1.657675e+14   \n",
      "88            1        Global    G  Global  2048  1.795422e+14   1.647031e+14   \n",
      "87            1        Global    G  Global  2047  1.778053e+14   1.635681e+14   \n",
      "86            1        Global    G  Global  2046  1.759560e+14   1.622744e+14   \n",
      "85            1        Global    G  Global  2045  1.740498e+14   1.608327e+14   \n",
      "84            1        Global    G  Global  2044  1.720934e+14   1.594056e+14   \n",
      "83            1        Global    G  Global  2043  1.701152e+14   1.579438e+14   \n",
      "82            1        Global    G  Global  2042  1.681175e+14   1.566207e+14   \n",
      "81            1        Global    G  Global  2041  1.661209e+14   1.552230e+14   \n",
      "\n",
      "    gdp_ppp_upper  gdp_usd_mean  gdp_usd_lower  gdp_usd_upper  \\\n",
      "90   2.025062e+14  1.119468e+14   1.017185e+14   1.239708e+14   \n",
      "89   2.003282e+14  1.110748e+14   1.012670e+14   1.226294e+14   \n",
      "88   1.978349e+14  1.101656e+14   1.008704e+14   1.212579e+14   \n",
      "87   1.952850e+14  1.091923e+14   1.003097e+14   1.197614e+14   \n",
      "86   1.928964e+14  1.081513e+14   9.968511e+13   1.180625e+14   \n",
      "85   1.903320e+14  1.070717e+14   9.903290e+13   1.164315e+14   \n",
      "84   1.874514e+14  1.059643e+14   9.831993e+13   1.147651e+14   \n",
      "83   1.847172e+14  1.048522e+14   9.771637e+13   1.129875e+14   \n",
      "82   1.817886e+14  1.037319e+14   9.697921e+13   1.115238e+14   \n",
      "81   1.792966e+14  1.026157e+14   9.630379e+13   1.098151e+14   \n",
      "\n",
      "    gdp_ppp_difference  \n",
      "90        3.580549e+13  \n",
      "89        3.456061e+13  \n",
      "88        3.313177e+13  \n",
      "87        3.171689e+13  \n",
      "86        3.062192e+13  \n",
      "85        2.949930e+13  \n",
      "84        2.804583e+13  \n",
      "83        2.677341e+13  \n",
      "82        2.516788e+13  \n",
      "81        2.407368e+13  \n",
      "       location_id location_name iso3    level  year  gdp_ppp_mean  \\\n",
      "17791          218          Togo  TGO  Country  2006   1256.106656   \n",
      "15701          194       Lesotho  LSO  Country  2009   2386.813789   \n",
      "15891          196  South Africa  ZAF  Country  2017  13415.109285   \n",
      "17790          218          Togo  TGO  Country  2005   1251.135277   \n",
      "17794          218          Togo  TGO  Country  2009   1269.161805   \n",
      "15066          185        Rwanda  RWA  Country  2011   1626.420947   \n",
      "14974          184    Mozambique  MOZ  Country  2010   1060.720788   \n",
      "15067          185        Rwanda  RWA  Country  2012   1717.968641   \n",
      "17795          218          Togo  TGO  Country  2010   1308.887516   \n",
      "17798          218          Togo  TGO  Country  2013   1441.917427   \n",
      "\n",
      "       gdp_ppp_lower  gdp_ppp_upper  gdp_usd_mean  gdp_usd_lower  \\\n",
      "17791    1239.451885    1272.811018    525.427266     524.712203   \n",
      "15701    2364.955982    2408.208729    762.378717     729.814377   \n",
      "15891   13392.134704   13438.793149   5331.268573    5327.630613   \n",
      "17790    1228.017491    1278.123473    525.655949     524.957683   \n",
      "17794    1235.694959    1303.017996    525.753280     525.026947   \n",
      "15066    1592.229066    1663.254347    562.630729     558.618670   \n",
      "14974    1029.574562    1100.995605    382.037004     370.488013   \n",
      "15067    1678.204824    1753.122750    595.431231     591.130483   \n",
      "17795    1276.145386    1351.422620    542.979145     542.113686   \n",
      "17798    1412.922361    1488.496965    634.980682     594.900379   \n",
      "\n",
      "       gdp_usd_upper  gdp_ppp_difference  \n",
      "17791     525.969435           33.359132  \n",
      "15701     789.724274           43.252747  \n",
      "15891    5334.127410           46.658445  \n",
      "17790     526.226948           50.105982  \n",
      "17794     526.332654           67.323037  \n",
      "15066     568.725657           71.025280  \n",
      "14974     390.499028           71.421043  \n",
      "15067     600.995223           74.917925  \n",
      "17795     543.708334           75.277235  \n",
      "17798     706.144537           75.574603  \n"
     ]
    }
   ],
   "source": [
    "# 26. Wyświetlić wierszy dla 10 największych (najmniejszych) wartości określonej kolumny\n",
    "print(ramka_danych_csv.nlargest(10, 'gdp_ppp_difference'))\n",
    "print(ramka_danych_csv.nsmallest(10, 'gdp_ppp_difference'))"
   ]
  },
  {
   "cell_type": "code",
   "execution_count": 229,
   "id": "2b4b80cd",
   "metadata": {},
   "outputs": [
    {
     "name": "stdout",
     "output_type": "stream",
     "text": [
      "    location_id location_name iso3   level  year  gdp_ppp_mean  gdp_ppp_lower  \\\n",
      "90            1        Global    G  Global  2050  1.827414e+14   1.667007e+14   \n",
      "89            1        Global    G  Global  2049  1.811701e+14   1.657675e+14   \n",
      "88            1        Global    G  Global  2048  1.795422e+14   1.647031e+14   \n",
      "87            1        Global    G  Global  2047  1.778053e+14   1.635681e+14   \n",
      "86            1        Global    G  Global  2046  1.759560e+14   1.622744e+14   \n",
      "85            1        Global    G  Global  2045  1.740498e+14   1.608327e+14   \n",
      "84            1        Global    G  Global  2044  1.720934e+14   1.594056e+14   \n",
      "83            1        Global    G  Global  2043  1.701152e+14   1.579438e+14   \n",
      "82            1        Global    G  Global  2042  1.681175e+14   1.566207e+14   \n",
      "81            1        Global    G  Global  2041  1.661209e+14   1.552230e+14   \n",
      "\n",
      "    gdp_ppp_upper  gdp_usd_mean  gdp_usd_lower  gdp_usd_upper  \\\n",
      "90   2.025062e+14  1.119468e+14   1.017185e+14   1.239708e+14   \n",
      "89   2.003282e+14  1.110748e+14   1.012670e+14   1.226294e+14   \n",
      "88   1.978349e+14  1.101656e+14   1.008704e+14   1.212579e+14   \n",
      "87   1.952850e+14  1.091923e+14   1.003097e+14   1.197614e+14   \n",
      "86   1.928964e+14  1.081513e+14   9.968511e+13   1.180625e+14   \n",
      "85   1.903320e+14  1.070717e+14   9.903290e+13   1.164315e+14   \n",
      "84   1.874514e+14  1.059643e+14   9.831993e+13   1.147651e+14   \n",
      "83   1.847172e+14  1.048522e+14   9.771637e+13   1.129875e+14   \n",
      "82   1.817886e+14  1.037319e+14   9.697921e+13   1.115238e+14   \n",
      "81   1.792966e+14  1.026157e+14   9.630379e+13   1.098151e+14   \n",
      "\n",
      "    gdp_ppp_difference  \n",
      "90        3.580549e+13  \n",
      "89        3.456061e+13  \n",
      "88        3.313177e+13  \n",
      "87        3.171689e+13  \n",
      "86        3.062192e+13  \n",
      "85        2.949930e+13  \n",
      "84        2.804583e+13  \n",
      "83        2.677341e+13  \n",
      "82        2.516788e+13  \n",
      "81        2.407368e+13  \n"
     ]
    }
   ],
   "source": [
    "# 27. Wyświetlić wierszy dla 10 największych wartości określonej kolumny pod warunkiem określonych wartości innej kolumny\n",
    "filtered_data = ramka_danych_csv[ramka_danych_csv['location_name'] == 'Global']\n",
    "print(filtered_data.nlargest(10, 'gdp_ppp_mean'))\n"
   ]
  },
  {
   "cell_type": "code",
   "execution_count": 230,
   "id": "41499b18",
   "metadata": {},
   "outputs": [
    {
     "name": "stdout",
     "output_type": "stream",
     "text": [
      "                    location_id  gdp_ppp_mean  gdp_ppp_lower  gdp_ppp_upper  \\\n",
      "location_name year                                                            \n",
      "Afghanistan   1960        160.0   2221.335586    1353.292858    3082.415995   \n",
      "              1961        160.0   2192.653614    1336.349002    3012.241102   \n",
      "              1962        160.0   2178.869688    1327.326777    2963.810432   \n",
      "              1963        160.0   2169.572283    1322.003248    2940.315793   \n",
      "              1964        160.0   2155.861769    1324.331042    2932.818437   \n",
      "...                         ...           ...            ...            ...   \n",
      "Zimbabwe      2046        198.0   3086.223490    1856.652268    4531.850929   \n",
      "              2047        198.0   3116.294363    1866.152043    4625.577546   \n",
      "              2048        198.0   3145.941464    1857.642354    4693.442459   \n",
      "              2049        198.0   3175.312716    1861.027391    4766.207444   \n",
      "              2050        198.0   3204.717710    1852.077740    4849.920213   \n",
      "\n",
      "                    gdp_usd_mean  gdp_usd_lower  gdp_usd_upper  \\\n",
      "location_name year                                               \n",
      "Afghanistan   1960    690.992776     516.513170     964.233914   \n",
      "              1961    682.493782     507.833855     958.141591   \n",
      "              1962    678.584622     510.383482     950.032579   \n",
      "              1963    676.055466     509.234425     943.496288   \n",
      "              1964    672.157496     506.548073     932.652043   \n",
      "...                          ...            ...            ...   \n",
      "Zimbabwe      2046   1283.050542     990.146349    1666.231011   \n",
      "              2047   1295.530479     992.038533    1691.789642   \n",
      "              2048   1307.813498     982.320381    1719.039709   \n",
      "              2049   1319.994426     986.284349    1749.976131   \n",
      "              2050   1332.173722     981.546944    1767.718479   \n",
      "\n",
      "                    gdp_ppp_difference  \n",
      "location_name year                      \n",
      "Afghanistan   1960         1729.123137  \n",
      "              1961         1675.892100  \n",
      "              1962         1636.483654  \n",
      "              1963         1618.312546  \n",
      "              1964         1608.487395  \n",
      "...                                ...  \n",
      "Zimbabwe      2046         2675.198661  \n",
      "              2047         2759.425503  \n",
      "              2048         2835.800105  \n",
      "              2049         2905.180053  \n",
      "              2050         2997.842472  \n",
      "\n",
      "[18655 rows x 8 columns]\n"
     ]
    }
   ],
   "source": [
    "# 28. Grupowanie wierszy według wartości kolumny skategoryzowanej, potem uśrednienie wartości wszystkich kolumn w grupie - MultiIndex\n",
    "grouped_mean = ramka_danych_csv.groupby(['location_name', 'year']).mean(numeric_only=True)\n",
    "print(grouped_mean)"
   ]
  },
  {
   "cell_type": "code",
   "execution_count": 231,
   "id": "6e611434",
   "metadata": {},
   "outputs": [
    {
     "name": "stdout",
     "output_type": "stream",
     "text": [
      "                                    gdp_ppp_mean        gdp_usd_mean  year\n",
      "                                            mean count        median   max\n",
      "location_name                                                             \n",
      "Afghanistan                          1941.160286    91    515.274036  2050\n",
      "Albania                              9092.515182    91   3098.516205  2050\n",
      "Algeria                              8820.271149    91   3163.885729  2050\n",
      "American Samoa                      15340.365197    91  13620.772462  2050\n",
      "Andorra                             25139.562251    91  38178.372791  2050\n",
      "...                                          ...   ...           ...   ...\n",
      "Venezuela (Bolivarian Republic of)  10594.142490    91   5823.785745  2050\n",
      "Viet Nam                             5737.873614    91   1437.919432  2050\n",
      "Yemen                                2637.237249    91    828.806903  2050\n",
      "Zambia                               3107.029470    91   1078.009951  2050\n",
      "Zimbabwe                             2925.918096    91   1069.856772  2050\n",
      "\n",
      "[205 rows x 4 columns]\n"
     ]
    }
   ],
   "source": [
    "# 29. Grupowanie wierszy według wartości kolumny skategoryzowanej, potem uśrednienie wartości dla pewnych kolumn, liczba wartości i mediana dla pozostałych kolumn w grupach\n",
    "grouped_stats = ramka_danych_csv.groupby('location_name').agg({\n",
    "    'gdp_ppp_mean': ['mean', 'count'],\n",
    "    'gdp_usd_mean': 'median',\n",
    "    'year': 'max'\n",
    "})\n",
    "print(grouped_stats)"
   ]
  },
  {
   "cell_type": "code",
   "execution_count": 232,
   "id": "33f85173",
   "metadata": {},
   "outputs": [
    {
     "name": "stdout",
     "output_type": "stream",
     "text": [
      "['location_name', 'year']\n"
     ]
    }
   ],
   "source": [
    "# 30. Wyświetlić nazwy kolumn indeksu złożonego\n",
    "print(grouped_mean.index.names)"
   ]
  },
  {
   "cell_type": "code",
   "execution_count": 233,
   "id": "a5a3885a",
   "metadata": {},
   "outputs": [
    {
     "name": "stdout",
     "output_type": "stream",
     "text": [
      "                    location_id  gdp_ppp_mean  gdp_ppp_lower  gdp_ppp_upper  \\\n",
      "location_name year                                                            \n",
      "Afghanistan   1960        160.0   2221.335586    1353.292858    3082.415995   \n",
      "              1961        160.0   2192.653614    1336.349002    3012.241102   \n",
      "              1962        160.0   2178.869688    1327.326777    2963.810432   \n",
      "              1963        160.0   2169.572283    1322.003248    2940.315793   \n",
      "              1964        160.0   2155.861769    1324.331042    2932.818437   \n",
      "...                         ...           ...            ...            ...   \n",
      "Zimbabwe      2046        198.0   3086.223490    1856.652268    4531.850929   \n",
      "              2047        198.0   3116.294363    1866.152043    4625.577546   \n",
      "              2048        198.0   3145.941464    1857.642354    4693.442459   \n",
      "              2049        198.0   3175.312716    1861.027391    4766.207444   \n",
      "              2050        198.0   3204.717710    1852.077740    4849.920213   \n",
      "\n",
      "                    gdp_usd_mean  gdp_usd_lower  gdp_usd_upper  \\\n",
      "location_name year                                               \n",
      "Afghanistan   1960    690.992776     516.513170     964.233914   \n",
      "              1961    682.493782     507.833855     958.141591   \n",
      "              1962    678.584622     510.383482     950.032579   \n",
      "              1963    676.055466     509.234425     943.496288   \n",
      "              1964    672.157496     506.548073     932.652043   \n",
      "...                          ...            ...            ...   \n",
      "Zimbabwe      2046   1283.050542     990.146349    1666.231011   \n",
      "              2047   1295.530479     992.038533    1691.789642   \n",
      "              2048   1307.813498     982.320381    1719.039709   \n",
      "              2049   1319.994426     986.284349    1749.976131   \n",
      "              2050   1332.173722     981.546944    1767.718479   \n",
      "\n",
      "                    gdp_ppp_difference  \n",
      "location_name year                      \n",
      "Afghanistan   1960         1729.123137  \n",
      "              1961         1675.892100  \n",
      "              1962         1636.483654  \n",
      "              1963         1618.312546  \n",
      "              1964         1608.487395  \n",
      "...                                ...  \n",
      "Zimbabwe      2046         2675.198661  \n",
      "              2047         2759.425503  \n",
      "              2048         2835.800105  \n",
      "              2049         2905.180053  \n",
      "              2050         2997.842472  \n",
      "\n",
      "[18655 rows x 8 columns]\n"
     ]
    }
   ],
   "source": [
    "# 31. Posortować kolumnę˛ indeksu złożonego\n",
    "sorted_index = grouped_mean.sort_index()\n",
    "print(sorted_index)"
   ]
  },
  {
   "cell_type": "code",
   "execution_count": 234,
   "id": "35d8faef",
   "metadata": {},
   "outputs": [
    {
     "name": "stdout",
     "output_type": "stream",
     "text": [
      "year                                        1960          1961          1962  \\\n",
      "location_name                                                                  \n",
      "Afghanistan                          2221.335586   2192.653614   2178.869688   \n",
      "Albania                              3158.241995   3179.711325   3272.046583   \n",
      "Algeria                              5006.438360   4453.400566   3658.175321   \n",
      "American Samoa                      22109.859273  21946.482938  21884.955783   \n",
      "Andorra                             15636.337352  15796.419665  16031.522138   \n",
      "...                                          ...           ...           ...   \n",
      "Venezuela (Bolivarian Republic of)  10432.796342  10430.234336  10804.655654   \n",
      "Viet Nam                             1301.479002   1319.501206   1427.159417   \n",
      "Yemen                                1207.599807   1213.637071   1220.327712   \n",
      "Zambia                               2685.864457   2613.932835   2518.024702   \n",
      "Zimbabwe                             2408.747887   2460.565228   2405.779753   \n",
      "\n",
      "year                                        1963          1964          1965  \\\n",
      "location_name                                                                  \n",
      "Afghanistan                          2169.572283   2155.861769   2151.064936   \n",
      "Albania                              3370.096538   3471.383451   3583.125647   \n",
      "Algeria                              4362.291504   4467.247662   4635.281973   \n",
      "American Samoa                      21746.150959  22039.103093  21967.292708   \n",
      "Andorra                             16212.717854  16721.236248  16962.500876   \n",
      "...                                          ...           ...           ...   \n",
      "Venezuela (Bolivarian Republic of)  11116.532476  11810.328016  11935.494850   \n",
      "Viet Nam                             1421.953513   1440.696855   1413.406360   \n",
      "Yemen                                1230.605680   1236.624591   1245.455329   \n",
      "Zambia                               2545.033066   2794.094677   3042.546710   \n",
      "Zimbabwe                             2377.944795   2361.629168   2451.921918   \n",
      "\n",
      "year                                        1966          1967          1968  \\\n",
      "location_name                                                                  \n",
      "Afghanistan                          2121.159148   2125.293873   2141.203832   \n",
      "Albania                              3701.606998   3826.761339   3947.787571   \n",
      "Algeria                              4234.622602   4531.823753   4803.430268   \n",
      "American Samoa                      21941.986732  21778.478625  21809.608764   \n",
      "Andorra                             17243.441075  17419.093114  17753.186591   \n",
      "...                                          ...           ...           ...   \n",
      "Venezuela (Bolivarian Republic of)  11691.544995  11714.768598  12148.279419   \n",
      "Viet Nam                             1386.091408   1196.087362   1147.824135   \n",
      "Yemen                                1257.818357   1271.555576   1282.432072   \n",
      "Zambia                               3136.130606   3299.617291   3305.972107   \n",
      "Zimbabwe                             2371.081395   2426.346281   2334.537805   \n",
      "\n",
      "year                                        1969  ...          2041  \\\n",
      "location_name                                     ...                 \n",
      "Afghanistan                          2120.287941  ...   2342.098650   \n",
      "Albania                              4065.934215  ...  14819.211029   \n",
      "Algeria                              5051.997456  ...  11030.573193   \n",
      "American Samoa                      21868.789321  ...  11893.422465   \n",
      "Andorra                             18116.808178  ...  29227.359814   \n",
      "...                                          ...  ...           ...   \n",
      "Venezuela (Bolivarian Republic of)  12262.570715  ...   5936.593472   \n",
      "Viet Nam                             1207.247597  ...  11978.148704   \n",
      "Yemen                                1296.296950  ...   2687.929912   \n",
      "Zambia                               3412.255898  ...   4528.583497   \n",
      "Zimbabwe                             2607.252194  ...   2920.094735   \n",
      "\n",
      "year                                        2042          2043          2044  \\\n",
      "location_name                                                                  \n",
      "Afghanistan                          2373.513925   2408.692690   2447.457933   \n",
      "Albania                             15023.009454  15229.411365  15463.602305   \n",
      "Algeria                             11103.336795  11165.459200  11210.295359   \n",
      "American Samoa                      11930.178447  11982.538279  12045.045051   \n",
      "Andorra                             28842.858958  28498.492075  28158.292062   \n",
      "...                                          ...           ...           ...   \n",
      "Venezuela (Bolivarian Republic of)   5910.458362   5877.138076   5836.249945   \n",
      "Viet Nam                            12143.050046  12305.079272  12460.181246   \n",
      "Yemen                                2721.105116   2752.205471   2782.981501   \n",
      "Zambia                               4596.447849   4663.435135   4728.373411   \n",
      "Zimbabwe                             2953.357891   2987.035398   3019.468770   \n",
      "\n",
      "year                                        2045          2046          2047  \\\n",
      "location_name                                                                  \n",
      "Afghanistan                          2484.684464   2526.771339   2568.918404   \n",
      "Albania                             15675.489103  15891.474827  16093.835400   \n",
      "Algeria                             11241.399380  11262.030649  11271.942839   \n",
      "American Samoa                      12116.603188  12194.337343  12275.051475   \n",
      "Andorra                             27813.855276  27554.062720  27352.447739   \n",
      "...                                          ...           ...           ...   \n",
      "Venezuela (Bolivarian Republic of)   5796.897698   5752.656452   5711.373515   \n",
      "Viet Nam                            12612.891371  12763.816982  12904.398221   \n",
      "Yemen                                2813.127885   2842.694538   2871.818130   \n",
      "Zambia                               4794.522235   4860.353288   4926.102992   \n",
      "Zimbabwe                             3052.770960   3086.223490   3116.294363   \n",
      "\n",
      "year                                        2048          2049          2050  \n",
      "location_name                                                                 \n",
      "Afghanistan                          2612.639879   2655.415849   2702.860491  \n",
      "Albania                             16272.721532  16445.334011  16597.323356  \n",
      "Algeria                             11275.241774  11262.595293  11244.318633  \n",
      "American Samoa                      12365.951829  12458.781807  12552.708157  \n",
      "Andorra                             27197.498599  27089.146046  27037.722215  \n",
      "...                                          ...           ...           ...  \n",
      "Venezuela (Bolivarian Republic of)   5673.687788   5629.163661   5586.185557  \n",
      "Viet Nam                            13041.740748  13175.413001  13307.742671  \n",
      "Yemen                                2900.489905   2928.794443   2955.558976  \n",
      "Zambia                               4989.723480   5050.614585   5113.775149  \n",
      "Zimbabwe                             3145.941464   3175.312716   3204.717710  \n",
      "\n",
      "[205 rows x 91 columns]\n"
     ]
    }
   ],
   "source": [
    "# 32. Stworzyć tabele przestawną (pivot table) na podstawie ramki danych\n",
    "pivot_table = pd.pivot_table(ramka_danych_csv, values='gdp_ppp_mean', index=['location_name'], columns=['year'], aggfunc='mean')\n",
    "print(pivot_table)"
   ]
  },
  {
   "cell_type": "code",
   "execution_count": 235,
   "id": "4176404e",
   "metadata": {},
   "outputs": [
    {
     "name": "stdout",
     "output_type": "stream",
     "text": [
      "Index(['Afghanistan', 'Albania', 'Algeria', 'American Samoa', 'Andorra',\n",
      "       'Angola', 'Antigua and Barbuda', 'Argentina', 'Armenia', 'Australia',\n",
      "       ...\n",
      "       'United States Virgin Islands', 'United States of America', 'Uruguay',\n",
      "       'Uzbekistan', 'Vanuatu', 'Venezuela (Bolivarian Republic of)',\n",
      "       'Viet Nam', 'Yemen', 'Zambia', 'Zimbabwe'],\n",
      "      dtype='object', name='location_name', length=205)\n",
      "Index([1960, 1961, 1962, 1963, 1964, 1965, 1966, 1967, 1968, 1969, 1970, 1971,\n",
      "       1972, 1973, 1974, 1975, 1976, 1977, 1978, 1979, 1980, 1981, 1982, 1983,\n",
      "       1984, 1985, 1986, 1987, 1988, 1989, 1990, 1991, 1992, 1993, 1994, 1995,\n",
      "       1996, 1997, 1998, 1999, 2000, 2001, 2002, 2003, 2004, 2005, 2006, 2007,\n",
      "       2008, 2009, 2010, 2011, 2012, 2013, 2014, 2015, 2016, 2017, 2018, 2019,\n",
      "       2020, 2021, 2022, 2023, 2024, 2025, 2026, 2027, 2028, 2029, 2030, 2031,\n",
      "       2032, 2033, 2034, 2035, 2036, 2037, 2038, 2039, 2040, 2041, 2042, 2043,\n",
      "       2044, 2045, 2046, 2047, 2048, 2049, 2050],\n",
      "      dtype='int64', name='year')\n"
     ]
    }
   ],
   "source": [
    "# 33. Wyświetlić indeksy i kolumny tabeli przestawnej\n",
    "print(pivot_table.index)\n",
    "print(pivot_table.columns)"
   ]
  },
  {
   "cell_type": "code",
   "execution_count": 236,
   "id": "52314524",
   "metadata": {},
   "outputs": [
    {
     "name": "stdout",
     "output_type": "stream",
     "text": [
      "MultiIndex([(                       'Afghanistan', 2221.33558642915, ...),\n",
      "            (                           'Albania', 3158.24199462837, ...),\n",
      "            (                           'Algeria', 5006.43835997237, ...),\n",
      "            (                    'American Samoa',  22109.859272757, ...),\n",
      "            (                           'Andorra', 15636.3373517101, ...),\n",
      "            (                            'Angola', 4424.22337093641, ...),\n",
      "            (               'Antigua and Barbuda', 3939.96456079785, ...),\n",
      "            (                         'Argentina', 9947.85853860087, ...),\n",
      "            (                           'Armenia', 4717.49893052611, ...),\n",
      "            (                         'Australia', 17521.8499818484, ...),\n",
      "            ...\n",
      "            (      'United States Virgin Islands', 11402.6973448973, ...),\n",
      "            (          'United States of America', 21498.7249723008, ...),\n",
      "            (                           'Uruguay', 8032.29318246791, ...),\n",
      "            (                        'Uzbekistan', 2971.75653904325, ...),\n",
      "            (                           'Vanuatu', 1761.93293871854, ...),\n",
      "            ('Venezuela (Bolivarian Republic of)',  10432.796342326, ...),\n",
      "            (                          'Viet Nam', 1301.47900194441, ...),\n",
      "            (                             'Yemen', 1207.59980696746, ...),\n",
      "            (                            'Zambia', 2685.86445730912, ...),\n",
      "            (                          'Zimbabwe', 2408.74788699075, ...)],\n",
      "           names=['location_name', 1960, 1961, 1962, 1963, 1964, 1965, 1966, 1967, 1968, 1969, 1970, 1971, 1972, 1973, 1974, 1975, 1976, 1977, 1978, 1979, 1980, 1981, 1982, 1983, 1984, 1985, 1986, 1987, 1988, 1989, 1990, 1991, 1992, 1993, 1994, 1995, 1996, 1997, 1998, 1999, 2000, 2001, 2002, 2003, 2004, 2005, 2006, 2007, 2008, 2009, 2010, 2011, 2012, 2013, 2014, 2015, 2016, 2017, 2018, 2019, 2020, 2021, 2022, 2023, 2024, 2025, 2026, 2027, 2028, 2029, 2030, 2031, 2032, 2033, 2034, 2035, 2036, 2037, 2038, 2039, 2040, 2041, 2042, 2043, 2044, 2045, 2046, 2047, 2048, 2049, 2050], length=205)\n"
     ]
    }
   ],
   "source": [
    "# 34. Utwórz indeks złożony tabeli przestawnej i wyświetl go\n",
    "pivot_table = pivot_table.reset_index()\n",
    "pivot_table.set_index(['location_name'] + list(pivot_table.columns[1:]), inplace=True)\n",
    "print(pivot_table.index)"
   ]
  },
  {
   "cell_type": "code",
   "execution_count": null,
   "id": "1b3f113c",
   "metadata": {},
   "outputs": [
    {
     "data": {
      "image/png": "[encoded data removed]",
      "text/plain": [
       "<Figure size 1000x600 with 1 Axes>"
      ]
     },
     "metadata": {},
     "output_type": "display_data"
    }
   ],
   "source": [
    "# 35. Zaimportuj moduł pyplot z biblioteki matplotlib i 36. Wskazać, że wykresy należy rysować bezpośrednio w zeszycie, a nie w osobnej zakładce\n",
    "import matplotlib.pyplot as plt\n",
    "%matplotlib inline\n",
    "# 37. Wyświetlić wykres na podstawie tabeli przestawnej\n",
    "pivot_table_reset = pivot_table.reset_index()\n",
    "pivot_table_melted = pd.melt(pivot_table_reset, id_vars=[\"location_name\"], var_name=\"year\", value_name=\"gdp_ppp_mean\") # Meltujemy (przetapiamy) dane, aby 'year' stał się kolumną,\n",
    "location_name = 'Poland'\n",
    "data = pivot_table_melted[pivot_table_melted['location_name'] == location_name]\n",
    "data.plot(x='year', y='gdp_ppp_mean', kind='line', title=f'GDP PPP Mean for {location_name} over years', figsize=(10,6))\n",
    "plt.xlabel('Year')\n",
    "plt.ylabel('GDP PPP Mean')\n",
    "plt.grid(True)\n",
    "plt.xticks(rotation=45)  # Rotacja etykiet osi X dla lepszej czytelności\n",
    "plt.tight_layout()\n",
    "plt.show()"
   ]
  },
  {
   "cell_type": "code",
   "execution_count": 239,
   "id": "060d3fb9",
   "metadata": {},
   "outputs": [
    {
     "data": {
      "image/png": "[encoded data removed]",
      "text/plain": [
       "<Figure size 1000x600 with 1 Axes>"
      ]
     },
     "metadata": {},
     "output_type": "display_data"
    }
   ],
   "source": [
    "# 38. Narysować histogram na podstawie wartości kolumny\n",
    "# Usunięcie wierszy z brakującymi danymi\n",
    "ramka_danych_csv = ramka_danych_csv.dropna(subset=['gdp_ppp_mean'])\n",
    "\n",
    "# Narysowanie histogramu z mniejszą liczbą przedziałów i zastosowanie skali logarytmicznej\n",
    "plt.figure(figsize=(10,6))\n",
    "ramka_danych_csv['gdp_ppp_mean'].hist(bins=50, density=True, alpha=0.7, color='blue')\n",
    "\n",
    "plt.title('Histogram', fontsize=14)\n",
    "plt.xlabel('GDP PPP Mean', fontsize=12)\n",
    "plt.ylabel('Density', fontsize=12)\n",
    "plt.yscale('log')\n",
    "plt.show()"
   ]
  },
  {
   "cell_type": "code",
   "execution_count": 240,
   "id": "e5d055f4",
   "metadata": {},
   "outputs": [
    {
     "name": "stdout",
     "output_type": "stream",
     "text": [
      "  key  value1  value2\n",
      "0   A       1       4\n",
      "1   B       2       5\n",
      "  key  value1\n",
      "0   A       7\n",
      "1   B       8\n",
      "2   C       9\n",
      "3   D      10\n"
     ]
    }
   ],
   "source": [
    "# 39. Przedstawić sposoby łączenia ramek danych za pomocą metod merge i concat\n",
    "# Metoda merge:\n",
    "df1 = pd.DataFrame({'key': ['A', 'B', 'C'], 'value1': [1, 2, 3]})\n",
    "df2 = pd.DataFrame({'key': ['A', 'B', 'D'], 'value2': [4, 5, 6]})\n",
    "merged_df = pd.merge(df1, df2, on='key', how='inner')\n",
    "print(merged_df)\n",
    "# Metoda konkatenacji:\n",
    "df3 = pd.DataFrame({'key': ['A', 'B'], 'value1': [7, 8]})\n",
    "df4 = pd.DataFrame({'key': ['C', 'D'], 'value1': [9, 10]})\n",
    "concatenated_df = pd.concat([df3, df4], ignore_index=True)\n",
    "print(concatenated_df)"
   ]
  },
  {
   "cell_type": "code",
   "execution_count": 241,
   "id": "c6ee41a9",
   "metadata": {},
   "outputs": [
    {
     "name": "stdout",
     "output_type": "stream",
     "text": [
      "      location_name  year  gdp_growth\n",
      "16017      Zimbabwe  1961         NaN\n",
      "16084      Zimbabwe  2028    0.033804\n",
      "16082      Zimbabwe  2026   -0.019321\n",
      "16081      Zimbabwe  2025   -0.008344\n",
      "16080      Zimbabwe  2024   -0.007727\n"
     ]
    }
   ],
   "source": [
    "# 40. Pokazać dodawanie nowych kolumn za pomocą operacji matematycznych\n",
    "ramka_danych_csv['gdp_growth'] = ramka_danych_csv['gdp_ppp_mean'] / ramka_danych_csv['gdp_ppp_mean'].shift(1) - 1\n",
    "print(ramka_danych_csv[['location_name', 'year', 'gdp_growth']].head())\n"
   ]
  },
  {
   "cell_type": "code",
   "execution_count": 242,
   "id": "d22c05ac",
   "metadata": {},
   "outputs": [
    {
     "name": "stdout",
     "output_type": "stream",
     "text": [
      "      location_name  year  gdp_per_capita\n",
      "16017      Zimbabwe  1961        3.002179\n",
      "16084      Zimbabwe  2028        2.404670\n",
      "16082      Zimbabwe  2026        2.404573\n",
      "16081      Zimbabwe  2025        2.404522\n",
      "16080      Zimbabwe  2024        2.404459\n"
     ]
    }
   ],
   "source": [
    "# 41. Przedstawić na przykładzie dodawanie nowych kolumn z pomocą funkcji lambda\n",
    "ramka_danych_csv['gdp_per_capita'] = ramka_danych_csv.apply(lambda row: row['gdp_ppp_mean'] / row['gdp_usd_mean'], axis=1)\n",
    "print(ramka_danych_csv[['location_name', 'year', 'gdp_per_capita']].head())\n"
   ]
  },
  {
   "cell_type": "code",
   "execution_count": 243,
   "id": "e8947d69",
   "metadata": {},
   "outputs": [
    {
     "name": "stdout",
     "output_type": "stream",
     "text": [
      "   location_id location_name iso3   level  year  gdp_ppp_mean  gdp_ppp_lower  \\\n",
      "0            1        Global    G  Global  1960  1.748345e+13   1.601915e+13   \n",
      "1            1        Global    G  Global  1961  1.813537e+13   1.659537e+13   \n",
      "2            1        Global    G  Global  1962  1.895328e+13   1.739039e+13   \n",
      "3            1        Global    G  Global  1963  1.965662e+13   1.811706e+13   \n",
      "\n",
      "   gdp_ppp_upper  gdp_usd_mean  gdp_usd_lower  gdp_usd_upper  \n",
      "0   1.911586e+13  1.296863e+13   1.266890e+13   1.334177e+13  \n",
      "1   1.982493e+13  1.346097e+13   1.314767e+13   1.383021e+13  \n",
      "2   2.061477e+13  1.406576e+13   1.376060e+13   1.443746e+13  \n",
      "3   2.134993e+13  1.461831e+13   1.432132e+13   1.497693e+13  \n",
      "       location_id location_name iso3    level  year  gdp_ppp_mean  \\\n",
      "10000          126    Costa Rica  CRI  Country  2041  21222.968139   \n",
      "10001          126    Costa Rica  CRI  Country  2042  21384.771030   \n",
      "10002          126    Costa Rica  CRI  Country  2043  21531.353078   \n",
      "10003          126    Costa Rica  CRI  Country  2044  21654.766957   \n",
      "\n",
      "       gdp_ppp_lower  gdp_ppp_upper  gdp_usd_mean  gdp_usd_lower  \\\n",
      "10000   16351.045982   26688.622084  12731.983537   10072.290068   \n",
      "10001   16373.548021   27237.275872  12828.873351   10014.947690   \n",
      "10002   16295.954034   27650.146027  12916.696284    9925.971971   \n",
      "10003   16183.900733   28059.557778  12990.534044    9872.441363   \n",
      "\n",
      "       gdp_usd_upper  \n",
      "10000   15839.573177  \n",
      "10001   16094.157651  \n",
      "10002   16384.105693  \n",
      "10003   16584.745555  \n"
     ]
    }
   ],
   "source": [
    "# 42. Przedstawić możliwości pracy z dużymi plikami przy użyciu argumentu chunksize\n",
    "chunksize = 10000\n",
    "for chunk in pd.read_csv('IHME_GDP_1960_2050_Y2021M09D22.CSV', chunksize=chunksize):\n",
    "    print(chunk.head(4))"
   ]
  }
 ],
 "metadata": {
  "kernelspec": {
   "display_name": "Python 3 (ipykernel)",
   "language": "python",
   "name": "python3"
  },
  "language_info": {
   "codemirror_mode": {
    "name": "ipython",
    "version": 3
   },
   "file_extension": ".py",
   "mimetype": "text/x-python",
   "name": "python",
   "nbconvert_exporter": "python",
   "pygments_lexer": "ipython3",
   "version": "3.11.9"
  }
 },
 "nbformat": 4,
 "nbformat_minor": 5
}
