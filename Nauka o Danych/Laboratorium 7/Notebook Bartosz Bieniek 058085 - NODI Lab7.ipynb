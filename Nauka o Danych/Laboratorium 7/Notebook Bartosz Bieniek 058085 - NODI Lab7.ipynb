{
 "cells": [
  {
   "cell_type": "code",
   "execution_count": 14,
   "metadata": {},
   "outputs": [
    {
     "name": "stdout",
     "output_type": "stream",
     "text": [
      "Proces klasyfikacji zakończony. Wyniki zapisano w pliku dane-oznaczone.csv.\n"
     ]
    }
   ],
   "source": [
    "import pandas as pd\n",
    "from sklearn.preprocessing import LabelEncoder\n",
    "from sklearn.ensemble import RandomForestClassifier\n",
    "\n",
    "dane_treningowe = pd.read_csv(\"dane-treningowe.csv\", header=None)\n",
    "dane_treningowe.columns = [\"dlugosc_kielicha\", \"szerokosc_kielicha\", \"dlugosc_platka\", \"szerokosc_platka\", \"gatunek\"]\n",
    "\n",
    "dane_nieoznaczone = pd.read_csv(\"dane-nieoznaczone.csv\", header=None)\n",
    "dane_nieoznaczone.columns = [\"dlugosc_kielicha\", \"szerokosc_kielicha\", \"dlugosc_platka\", \"szerokosc_platka\"]\n",
    "\n",
    "dane_nieoznaczone_z_nazwami_kolumn = dane_treningowe.iloc[:, :-1]\n",
    "etykiety = dane_treningowe.iloc[:, -1]\n",
    "label_encoder = LabelEncoder()\n",
    "etykiety_numeryczne = label_encoder.fit_transform(etykiety)\n",
    "\n",
    "model = RandomForestClassifier(random_state=42, n_estimators=100)\n",
    "model.fit(dane_nieoznaczone_z_nazwami_kolumn, etykiety_numeryczne)\n",
    "\n",
    "prawdopodobienstwa = model.predict_proba(dane_nieoznaczone)\n",
    "prawdopodobienstwa_df = pd.DataFrame(\n",
    "    prawdopodobienstwa, \n",
    "    columns=[f\"PP_{label}\" for label in label_encoder.classes_]\n",
    ")\n",
    "\n",
    "wyniki = pd.concat([dane_nieoznaczone, prawdopodobienstwa_df], axis=1)\n",
    "wyniki[\"gatunek\"] = label_encoder.inverse_transform(prawdopodobienstwa.argmax(axis=1))\n",
    "\n",
    "wyniki.to_csv(\"dane-oznaczone.csv\", index=False)\n",
    "print(\"Proces klasyfikacji zakończony. Wyniki zapisano w pliku dane-oznaczone.csv.\")\n"
   ]
  }
 ],
 "metadata": {
  "kernelspec": {
   "display_name": "Python 3",
   "language": "python",
   "name": "python3"
  },
  "language_info": {
   "codemirror_mode": {
    "name": "ipython",
    "version": 3
   },
   "file_extension": ".py",
   "mimetype": "text/x-python",
   "name": "python",
   "nbconvert_exporter": "python",
   "pygments_lexer": "ipython3",
   "version": "3.11.9"
  }
 },
 "nbformat": 4,
 "nbformat_minor": 2
}
