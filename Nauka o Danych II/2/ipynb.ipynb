{
 "cells": [
  {
   "cell_type": "code",
   "execution_count": 6,
   "id": "dcdcacdf",
   "metadata": {},
   "outputs": [],
   "source": [
    "# Krok 1: Import bibliotek\n",
    "import pandas as pd\n",
    "import numpy as np\n",
    "\n",
    "from sklearn.model_selection import train_test_split, GridSearchCV\n",
    "from sklearn.ensemble import RandomForestRegressor, StackingRegressor\n",
    "from sklearn.tree import DecisionTreeRegressor\n",
    "from sklearn.linear_model import LinearRegression\n",
    "from sklearn.neighbors import KNeighborsRegressor\n",
    "from xgboost import XGBRegressor\n",
    "from sklearn.metrics import r2_score\n",
    "import matplotlib.pyplot as plt\n"
   ]
  },
  {
   "cell_type": "code",
   "execution_count": 7,
   "id": "fbce2043",
   "metadata": {},
   "outputs": [],
   "source": [
    "# Krok 2: Wczytanie danych\n",
    "df = pd.read_csv(\"synthetic_health_data.csv\")\n",
    "X = df[[\"wiek\", \"BMI\", \"aktywnosc\", \"kalorie\", \"sen\"]]\n",
    "y = df[[\"cukier\", \"cisnienie_skurczowe\", \"cisnienie_rozkurczowe\"]]\n"
   ]
  },
  {
   "cell_type": "code",
   "execution_count": 8,
   "id": "aa42f5db",
   "metadata": {},
   "outputs": [],
   "source": [
    "# Krok 3: Podział danych na treningowe i testowe\n",
    "X_train, X_test, y_train, y_test = train_test_split(X, y, test_size=0.2, random_state=42)\n"
   ]
  },
  {
   "cell_type": "code",
   "execution_count": 9,
   "id": "0cea3b6f",
   "metadata": {},
   "outputs": [],
   "source": [
    "# Krok 4: Definicja modeli bazowych\n",
    "rf = RandomForestRegressor(random_state=42)\n",
    "xgb = XGBRegressor(random_state=42)\n",
    "stack = StackingRegressor(\n",
    "    estimators=[('rf', rf), ('xgb', xgb)],\n",
    "    final_estimator=LinearRegression()\n",
    ")\n"
   ]
  },
  {
   "cell_type": "code",
   "execution_count": 10,
   "id": "211c2e7f",
   "metadata": {},
   "outputs": [
    {
     "name": "stdout",
     "output_type": "stream",
     "text": [
      "Random Forest średni R²: 0.7685\n",
      "XGBoost średni R²: 0.7548\n",
      "Stacking średni R²: 0.7717\n"
     ]
    }
   ],
   "source": [
    "# Krok 5: Trenowanie i ewaluacja modeli (dla każdej zmiennej osobno)\n",
    "results = {}\n",
    "\n",
    "targets = [\"cukier\", \"cisnienie_skurczowe\", \"cisnienie_rozkurczowe\"]\n",
    "\n",
    "for name, model in models.items():\n",
    "    scores = []\n",
    "    for target in targets:\n",
    "        model.fit(X_train, y_train[target])\n",
    "        y_pred = model.predict(X_test)\n",
    "        r2 = r2_score(y_test[target], y_pred)\n",
    "        scores.append(r2)\n",
    "    avg_r2 = np.mean(scores)\n",
    "    results[name] = avg_r2\n",
    "    print(f\"{name} średni R²: {avg_r2:.4f}\")\n"
   ]
  },
  {
   "cell_type": "code",
   "execution_count": 13,
   "id": "92216f96",
   "metadata": {},
   "outputs": [
    {
     "name": "stdout",
     "output_type": "stream",
     "text": [
      "Najlepszy XGBoost: {'max_depth': 3, 'n_estimators': 50}\n"
     ]
    }
   ],
   "source": [
    "# Krok 6: Tuning hiperparametrów dla XGBoost\n",
    "param_grid = {\n",
    "    \"n_estimators\": [50, 100, 200],\n",
    "    \"max_depth\": [3, 5, 7]\n",
    "}\n",
    "grid = GridSearchCV(XGBRegressor(random_state=42), param_grid, cv=3, scoring='r2')\n",
    "grid.fit(X_train, y_train)\n",
    "best_xgb = grid.best_estimator_\n",
    "print(\"Najlepszy XGBoost:\", grid.best_params_)\n"
   ]
  },
  {
   "cell_type": "code",
   "execution_count": 14,
   "id": "2a909190",
   "metadata": {},
   "outputs": [
    {
     "name": "stdout",
     "output_type": "stream",
     "text": [
      "Stacking + KNN średni R² score: 0.7842\n"
     ]
    }
   ],
   "source": [
    "# Krok 7: Dodanie nowego modelu do stackingu (np. KNN)\n",
    "from sklearn.neighbors import KNeighborsRegressor\n",
    "\n",
    "targets = [\"cukier\", \"cisnienie_skurczowe\", \"cisnienie_rozkurczowe\"]\n",
    "r2_scores_stack2 = []\n",
    "\n",
    "for target in targets:\n",
    "    stack2 = StackingRegressor(\n",
    "        estimators=[\n",
    "            ('rf', rf),\n",
    "            ('xgb', best_xgb),\n",
    "            ('knn', KNeighborsRegressor())\n",
    "        ],\n",
    "        final_estimator=LinearRegression()\n",
    "    )\n",
    "    \n",
    "    stack2.fit(X_train, y_train[target])\n",
    "    y_pred = stack2.predict(X_test)\n",
    "    r2 = r2_score(y_test[target], y_pred)\n",
    "    r2_scores_stack2.append(r2)\n",
    "\n",
    "avg_r2_stack2 = np.mean(r2_scores_stack2)\n",
    "results[\"Stacking + KNN\"] = avg_r2_stack2\n",
    "print(f\"Stacking + KNN średni R² score: {avg_r2_stack2:.4f}\")\n"
   ]
  },
  {
   "cell_type": "code",
   "execution_count": 15,
   "id": "de202a41",
   "metadata": {},
   "outputs": [
    {
     "name": "stdout",
     "output_type": "stream",
     "text": [
      "Random Forest (wine) Accuracy: 1.0000\n",
      "XGBoost (wine) Accuracy: 0.9444\n",
      "Stacking (wine) Accuracy: 1.0000\n"
     ]
    }
   ],
   "source": [
    "# Krok 8: Testowanie modeli na zbiorze danych Wine\n",
    "from sklearn.datasets import load_wine\n",
    "\n",
    "wine = load_wine()\n",
    "X_wine = pd.DataFrame(wine.data, columns=wine.feature_names)\n",
    "y_wine = pd.DataFrame(wine.target)\n",
    "\n",
    "Xw_train, Xw_test, yw_train, yw_test = train_test_split(X_wine, y_wine, test_size=0.2, random_state=42)\n",
    "\n",
    "# Ponieważ mamy klasyfikację, przetestujemy XGBoost jako klasyfikator\n",
    "from xgboost import XGBClassifier\n",
    "from sklearn.ensemble import RandomForestClassifier\n",
    "from sklearn.ensemble import StackingClassifier\n",
    "from sklearn.linear_model import LogisticRegression\n",
    "from sklearn.metrics import accuracy_score\n",
    "\n",
    "clf_rf = RandomForestClassifier(random_state=42)\n",
    "clf_xgb = XGBClassifier(random_state=42)\n",
    "clf_stack = StackingClassifier(\n",
    "    estimators=[('rf', clf_rf), ('xgb', clf_xgb)],\n",
    "    final_estimator=LogisticRegression()\n",
    ")\n",
    "\n",
    "clf_models = {\n",
    "    \"Random Forest (wine)\": clf_rf,\n",
    "    \"XGBoost (wine)\": clf_xgb,\n",
    "    \"Stacking (wine)\": clf_stack\n",
    "}\n",
    "\n",
    "for name, clf in clf_models.items():\n",
    "    clf.fit(Xw_train, yw_train.values.ravel())\n",
    "    y_pred = clf.predict(Xw_test)\n",
    "    acc = accuracy_score(yw_test, y_pred)\n",
    "    results[name] = acc\n",
    "    print(f\"{name} Accuracy: {acc:.4f}\")\n"
   ]
  },
  {
   "cell_type": "code",
   "execution_count": 16,
   "id": "d28d629b",
   "metadata": {},
   "outputs": [
    {
     "data": {
      "image/png": "[encoded data removed]",
      "text/plain": [
       "<Figure size 1000x600 with 1 Axes>"
      ]
     },
     "metadata": {},
     "output_type": "display_data"
    }
   ],
   "source": [
    "# Krok 9: Wykres porównujący dokładność/R² modeli\n",
    "plt.figure(figsize=(10, 6))\n",
    "labels = list(results.keys())\n",
    "scores = list(results.values())\n",
    "\n",
    "plt.barh(labels, scores)\n",
    "plt.xlabel(\"R² (dla regresji) / Accuracy (dla klasyfikacji)\")\n",
    "plt.title(\"Porównanie skuteczności modeli\")\n",
    "plt.grid(True, axis='x')\n",
    "plt.tight_layout()\n",
    "plt.show()\n"
   ]
  }
 ],
 "metadata": {
  "kernelspec": {
   "display_name": "Python 3",
   "language": "python",
   "name": "python3"
  },
  "language_info": {
   "codemirror_mode": {
    "name": "ipython",
    "version": 3
   },
   "file_extension": ".py",
   "mimetype": "text/x-python",
   "name": "python",
   "nbconvert_exporter": "python",
   "pygments_lexer": "ipython3",
   "version": "3.11.9"
  }
 },
 "nbformat": 4,
 "nbformat_minor": 5
}
